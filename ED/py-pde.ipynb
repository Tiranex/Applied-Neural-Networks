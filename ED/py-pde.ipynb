{
 "cells": [
  {
   "cell_type": "markdown",
   "metadata": {},
   "source": [
    "# Ecuación de convección 1D\n",
    "## PDE Condition\n",
    "$\\phi_t + u\\phi_x=0, (x,t)\\in(0,1)^2$\n",
    "\n",
    "$\\phi(t,0)=\\phi(t,1), t\\in(0,1)$\n",
    "\n",
    "$\\phi(0,x)=sin(2\\pi x /L), x\\in(0,1)$\n",
    "\n",
    "Donde **u** es la velocidad, un valor escalar constante."
   ]
  },
  {
   "cell_type": "code",
   "execution_count": null,
   "metadata": {},
   "outputs": [],
   "source": [
    "grid = pde.CartesianGrid([[0, 10], [0, 5]], [20, 10], periodic=[True, False])"
   ]
  },
  {
   "cell_type": "code",
   "execution_count": null,
   "metadata": {},
   "outputs": [],
   "source": []
  },
  {
   "cell_type": "code",
   "execution_count": null,
   "metadata": {},
   "outputs": [],
   "source": [
    "import numpy as np\n",
    "import matplotlib.pyplot as plt\n",
    "from pde import CartesianGrid, ScalarField, PDEBase, plot_kymograph\n"
   ]
  },
  {
   "cell_type": "code",
   "execution_count": null,
   "metadata": {},
   "outputs": [],
   "source": [
    "# Define the grid\n",
    "grid = pde.CartesianGrid([[0, 1]], [100])\n",
    "\n",
    "# Define the initial condition\n",
    "initial_condition = ScalarField(grid)\n",
    "initial_condition.data = np.sin(2 * np.pi * grid.axes_coords[0])\n",
    "\n",
    "# Print the initial condition\n",
    "print(initial_condition)\n"
   ]
  },
  {
   "cell_type": "code",
   "execution_count": null,
   "metadata": {},
   "outputs": [],
   "source": [
    "eq = pde.PDE({\"u\": \"-gradient_squared(u) / 2 - laplace(u + laplace(u))\"})"
   ]
  }
 ],
 "metadata": {
  "language_info": {
   "name": "python"
  }
 },
 "nbformat": 4,
 "nbformat_minor": 2
}
