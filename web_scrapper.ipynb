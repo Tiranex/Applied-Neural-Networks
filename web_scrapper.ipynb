{
 "cells": [
  {
   "cell_type": "code",
   "execution_count": 51,
   "metadata": {},
   "outputs": [
    {
     "name": "stdout",
     "output_type": "stream",
     "text": [
      "Collecting fake-useragent\n",
      "  Downloading fake_useragent-1.4.0-py3-none-any.whl.metadata (13 kB)\n",
      "Requirement already satisfied: importlib-resources>=5.0 in f:\\vs-code\\applied-neural-networks\\.venv\\lib\\site-packages (from fake-useragent) (6.1.2)\n",
      "Requirement already satisfied: zipp>=3.1.0 in f:\\vs-code\\applied-neural-networks\\.venv\\lib\\site-packages (from importlib-resources>=5.0->fake-useragent) (3.17.0)\n",
      "Downloading fake_useragent-1.4.0-py3-none-any.whl (15 kB)\n",
      "Installing collected packages: fake-useragent\n",
      "Successfully installed fake-useragent-1.4.0\n"
     ]
    }
   ],
   "source": [
    "!pip install fake-useragent"
   ]
  },
  {
   "cell_type": "code",
   "execution_count": 31,
   "metadata": {},
   "outputs": [
    {
     "name": "stdout",
     "output_type": "stream",
     "text": [
      "Collecting BeautifulSoup4\n",
      "  Downloading beautifulsoup4-4.12.3-py3-none-any.whl.metadata (3.8 kB)\n",
      "Collecting soupsieve>1.2 (from BeautifulSoup4)\n",
      "  Using cached soupsieve-2.5-py3-none-any.whl.metadata (4.7 kB)\n",
      "Downloading beautifulsoup4-4.12.3-py3-none-any.whl (147 kB)\n",
      "   ---------------------------------------- 0.0/147.9 kB ? eta -:--:--\n",
      "   ---------------------------------------- 147.9/147.9 kB 4.3 MB/s eta 0:00:00\n",
      "Using cached soupsieve-2.5-py3-none-any.whl (36 kB)\n",
      "Installing collected packages: soupsieve, BeautifulSoup4\n",
      "Successfully installed BeautifulSoup4-4.12.3 soupsieve-2.5\n"
     ]
    }
   ],
   "source": [
    "!pip install BeautifulSoup4"
   ]
  },
  {
   "cell_type": "code",
   "execution_count": 24,
   "metadata": {},
   "outputs": [
    {
     "name": "stdout",
     "output_type": "stream",
     "text": [
      "Collecting undetected-chromedriver\n",
      "  Downloading undetected-chromedriver-3.5.5.tar.gz (65 kB)\n",
      "     ---------------------------------------- 0.0/65.4 kB ? eta -:--:--\n",
      "     ---------------------------------------- 65.4/65.4 kB 3.4 MB/s eta 0:00:00\n",
      "  Installing build dependencies: started\n",
      "  Installing build dependencies: finished with status 'done'\n",
      "  Getting requirements to build wheel: started\n",
      "  Getting requirements to build wheel: finished with status 'done'\n",
      "  Installing backend dependencies: started\n",
      "  Installing backend dependencies: finished with status 'done'\n",
      "  Preparing metadata (pyproject.toml): started\n",
      "  Preparing metadata (pyproject.toml): finished with status 'done'\n",
      "Requirement already satisfied: selenium>=4.9.0 in f:\\vs-code\\applied-neural-networks\\.venv\\lib\\site-packages (from undetected-chromedriver) (4.18.1)\n",
      "Requirement already satisfied: requests in f:\\vs-code\\applied-neural-networks\\.venv\\lib\\site-packages (from undetected-chromedriver) (2.31.0)\n",
      "Collecting websockets (from undetected-chromedriver)\n",
      "  Downloading websockets-12.0-cp39-cp39-win_amd64.whl.metadata (6.8 kB)\n",
      "Requirement already satisfied: urllib3<3,>=1.26 in f:\\vs-code\\applied-neural-networks\\.venv\\lib\\site-packages (from urllib3[socks]<3,>=1.26->selenium>=4.9.0->undetected-chromedriver) (2.2.1)\n",
      "Requirement already satisfied: trio~=0.17 in f:\\vs-code\\applied-neural-networks\\.venv\\lib\\site-packages (from selenium>=4.9.0->undetected-chromedriver) (0.24.0)\n",
      "Requirement already satisfied: trio-websocket~=0.9 in f:\\vs-code\\applied-neural-networks\\.venv\\lib\\site-packages (from selenium>=4.9.0->undetected-chromedriver) (0.11.1)\n",
      "Requirement already satisfied: certifi>=2021.10.8 in f:\\vs-code\\applied-neural-networks\\.venv\\lib\\site-packages (from selenium>=4.9.0->undetected-chromedriver) (2024.2.2)\n",
      "Requirement already satisfied: typing_extensions>=4.9.0 in f:\\vs-code\\applied-neural-networks\\.venv\\lib\\site-packages (from selenium>=4.9.0->undetected-chromedriver) (4.10.0)\n",
      "Requirement already satisfied: charset-normalizer<4,>=2 in f:\\vs-code\\applied-neural-networks\\.venv\\lib\\site-packages (from requests->undetected-chromedriver) (3.3.2)\n",
      "Requirement already satisfied: idna<4,>=2.5 in f:\\vs-code\\applied-neural-networks\\.venv\\lib\\site-packages (from requests->undetected-chromedriver) (3.6)\n",
      "Requirement already satisfied: attrs>=20.1.0 in f:\\vs-code\\applied-neural-networks\\.venv\\lib\\site-packages (from trio~=0.17->selenium>=4.9.0->undetected-chromedriver) (23.2.0)\n",
      "Requirement already satisfied: sortedcontainers in f:\\vs-code\\applied-neural-networks\\.venv\\lib\\site-packages (from trio~=0.17->selenium>=4.9.0->undetected-chromedriver) (2.4.0)\n",
      "Requirement already satisfied: outcome in f:\\vs-code\\applied-neural-networks\\.venv\\lib\\site-packages (from trio~=0.17->selenium>=4.9.0->undetected-chromedriver) (1.3.0.post0)\n",
      "Requirement already satisfied: sniffio>=1.3.0 in f:\\vs-code\\applied-neural-networks\\.venv\\lib\\site-packages (from trio~=0.17->selenium>=4.9.0->undetected-chromedriver) (1.3.1)\n",
      "Requirement already satisfied: cffi>=1.14 in f:\\vs-code\\applied-neural-networks\\.venv\\lib\\site-packages (from trio~=0.17->selenium>=4.9.0->undetected-chromedriver) (1.16.0)\n",
      "Requirement already satisfied: exceptiongroup in f:\\vs-code\\applied-neural-networks\\.venv\\lib\\site-packages (from trio~=0.17->selenium>=4.9.0->undetected-chromedriver) (1.2.0)\n",
      "Requirement already satisfied: wsproto>=0.14 in f:\\vs-code\\applied-neural-networks\\.venv\\lib\\site-packages (from trio-websocket~=0.9->selenium>=4.9.0->undetected-chromedriver) (1.2.0)\n",
      "Requirement already satisfied: pysocks!=1.5.7,<2.0,>=1.5.6 in f:\\vs-code\\applied-neural-networks\\.venv\\lib\\site-packages (from urllib3[socks]<3,>=1.26->selenium>=4.9.0->undetected-chromedriver) (1.7.1)\n",
      "Requirement already satisfied: pycparser in f:\\vs-code\\applied-neural-networks\\.venv\\lib\\site-packages (from cffi>=1.14->trio~=0.17->selenium>=4.9.0->undetected-chromedriver) (2.21)\n",
      "Requirement already satisfied: h11<1,>=0.9.0 in f:\\vs-code\\applied-neural-networks\\.venv\\lib\\site-packages (from wsproto>=0.14->trio-websocket~=0.9->selenium>=4.9.0->undetected-chromedriver) (0.14.0)\n",
      "Downloading websockets-12.0-cp39-cp39-win_amd64.whl (124 kB)\n",
      "   ---------------------------------------- 0.0/125.0 kB ? eta -:--:--\n",
      "   ---------------------------------------- 125.0/125.0 kB 7.2 MB/s eta 0:00:00\n",
      "Building wheels for collected packages: undetected-chromedriver\n",
      "  Building wheel for undetected-chromedriver (pyproject.toml): started\n",
      "  Building wheel for undetected-chromedriver (pyproject.toml): finished with status 'done'\n",
      "  Created wheel for undetected-chromedriver: filename=undetected_chromedriver-3.5.5-py3-none-any.whl size=47130 sha256=6288beca2caddedf4bc5595ecde09bfe8edc147d69388645dcb147256a3c858f\n",
      "  Stored in directory: c:\\users\\alex\\appdata\\local\\pip\\cache\\wheels\\d1\\9c\\b4\\ccdca75ca356899a9b65190f048a03058f1fe23602c642b88e\n",
      "Successfully built undetected-chromedriver\n",
      "Installing collected packages: websockets, undetected-chromedriver\n",
      "Successfully installed undetected-chromedriver-3.5.5 websockets-12.0\n"
     ]
    }
   ],
   "source": [
    "!pip install undetected-chromedriver"
   ]
  },
  {
   "cell_type": "code",
   "execution_count": 2,
   "metadata": {},
   "outputs": [
    {
     "name": "stdout",
     "output_type": "stream",
     "text": [
      "Collecting requests\n",
      "  Using cached requests-2.31.0-py3-none-any.whl.metadata (4.6 kB)\n",
      "Collecting charset-normalizer<4,>=2 (from requests)\n",
      "  Using cached charset_normalizer-3.3.2-cp39-cp39-win_amd64.whl.metadata (34 kB)\n",
      "Requirement already satisfied: idna<4,>=2.5 in f:\\vs-code\\applied-neural-networks\\.venv\\lib\\site-packages (from requests) (3.6)\n",
      "Requirement already satisfied: urllib3<3,>=1.21.1 in f:\\vs-code\\applied-neural-networks\\.venv\\lib\\site-packages (from requests) (2.2.1)\n",
      "Requirement already satisfied: certifi>=2017.4.17 in f:\\vs-code\\applied-neural-networks\\.venv\\lib\\site-packages (from requests) (2024.2.2)\n",
      "Using cached requests-2.31.0-py3-none-any.whl (62 kB)\n",
      "Using cached charset_normalizer-3.3.2-cp39-cp39-win_amd64.whl (100 kB)\n",
      "Installing collected packages: charset-normalizer, requests\n",
      "Successfully installed charset-normalizer-3.3.2 requests-2.31.0\n"
     ]
    }
   ],
   "source": [
    "!pip install requests"
   ]
  },
  {
   "cell_type": "code",
   "execution_count": 1,
   "metadata": {},
   "outputs": [
    {
     "name": "stdout",
     "output_type": "stream",
     "text": [
      "Collecting numpy\n",
      "  Using cached numpy-1.26.4-cp39-cp39-win_amd64.whl.metadata (61 kB)\n",
      "Using cached numpy-1.26.4-cp39-cp39-win_amd64.whl (15.8 MB)\n",
      "Installing collected packages: numpy\n",
      "Successfully installed numpy-1.26.4\n",
      "Collecting matplotlib\n",
      "  Using cached matplotlib-3.8.3-cp39-cp39-win_amd64.whl.metadata (5.9 kB)\n",
      "Collecting contourpy>=1.0.1 (from matplotlib)\n",
      "  Using cached contourpy-1.2.0-cp39-cp39-win_amd64.whl.metadata (5.8 kB)\n",
      "Collecting cycler>=0.10 (from matplotlib)\n",
      "  Using cached cycler-0.12.1-py3-none-any.whl.metadata (3.8 kB)\n",
      "Collecting fonttools>=4.22.0 (from matplotlib)\n",
      "  Using cached fonttools-4.49.0-cp39-cp39-win_amd64.whl.metadata (162 kB)\n",
      "Collecting kiwisolver>=1.3.1 (from matplotlib)\n",
      "  Using cached kiwisolver-1.4.5-cp39-cp39-win_amd64.whl.metadata (6.5 kB)\n",
      "Requirement already satisfied: numpy<2,>=1.21 in f:\\vs-code\\applied-neural-networks\\.venv\\lib\\site-packages (from matplotlib) (1.26.4)\n",
      "Requirement already satisfied: packaging>=20.0 in f:\\vs-code\\applied-neural-networks\\.venv\\lib\\site-packages (from matplotlib) (23.2)\n",
      "Collecting pillow>=8 (from matplotlib)\n",
      "  Using cached pillow-10.2.0-cp39-cp39-win_amd64.whl.metadata (9.9 kB)\n",
      "Collecting pyparsing>=2.3.1 (from matplotlib)\n",
      "  Using cached pyparsing-3.1.1-py3-none-any.whl.metadata (5.1 kB)\n",
      "Requirement already satisfied: python-dateutil>=2.7 in f:\\vs-code\\applied-neural-networks\\.venv\\lib\\site-packages (from matplotlib) (2.8.2)\n",
      "Collecting importlib-resources>=3.2.0 (from matplotlib)\n",
      "  Downloading importlib_resources-6.1.2-py3-none-any.whl.metadata (3.9 kB)\n",
      "Requirement already satisfied: zipp>=3.1.0 in f:\\vs-code\\applied-neural-networks\\.venv\\lib\\site-packages (from importlib-resources>=3.2.0->matplotlib) (3.17.0)\n",
      "Requirement already satisfied: six>=1.5 in f:\\vs-code\\applied-neural-networks\\.venv\\lib\\site-packages (from python-dateutil>=2.7->matplotlib) (1.16.0)\n",
      "Using cached matplotlib-3.8.3-cp39-cp39-win_amd64.whl (7.6 MB)\n",
      "Using cached contourpy-1.2.0-cp39-cp39-win_amd64.whl (181 kB)\n",
      "Using cached cycler-0.12.1-py3-none-any.whl (8.3 kB)\n",
      "Using cached fonttools-4.49.0-cp39-cp39-win_amd64.whl (2.2 MB)\n",
      "Downloading importlib_resources-6.1.2-py3-none-any.whl (34 kB)\n",
      "Using cached kiwisolver-1.4.5-cp39-cp39-win_amd64.whl (56 kB)\n",
      "Using cached pillow-10.2.0-cp39-cp39-win_amd64.whl (2.6 MB)\n",
      "Using cached pyparsing-3.1.1-py3-none-any.whl (103 kB)\n",
      "Installing collected packages: pyparsing, pillow, kiwisolver, importlib-resources, fonttools, cycler, contourpy, matplotlib\n",
      "Successfully installed contourpy-1.2.0 cycler-0.12.1 fonttools-4.49.0 importlib-resources-6.1.2 kiwisolver-1.4.5 matplotlib-3.8.3 pillow-10.2.0 pyparsing-3.1.1\n",
      "Collecting Selenium\n",
      "  Downloading selenium-4.18.1-py3-none-any.whl.metadata (6.9 kB)\n",
      "Collecting urllib3<3,>=1.26 (from urllib3[socks]<3,>=1.26->Selenium)\n",
      "  Downloading urllib3-2.2.1-py3-none-any.whl.metadata (6.4 kB)\n",
      "Collecting trio~=0.17 (from Selenium)\n",
      "  Downloading trio-0.24.0-py3-none-any.whl.metadata (4.9 kB)\n",
      "Collecting trio-websocket~=0.9 (from Selenium)\n",
      "  Downloading trio_websocket-0.11.1-py3-none-any.whl.metadata (4.7 kB)\n",
      "Collecting certifi>=2021.10.8 (from Selenium)\n",
      "  Downloading certifi-2024.2.2-py3-none-any.whl.metadata (2.2 kB)\n",
      "Requirement already satisfied: typing_extensions>=4.9.0 in f:\\vs-code\\applied-neural-networks\\.venv\\lib\\site-packages (from Selenium) (4.10.0)\n",
      "Collecting attrs>=20.1.0 (from trio~=0.17->Selenium)\n",
      "  Downloading attrs-23.2.0-py3-none-any.whl.metadata (9.5 kB)\n",
      "Collecting sortedcontainers (from trio~=0.17->Selenium)\n",
      "  Downloading sortedcontainers-2.4.0-py2.py3-none-any.whl.metadata (10 kB)\n",
      "Collecting idna (from trio~=0.17->Selenium)\n",
      "  Using cached idna-3.6-py3-none-any.whl.metadata (9.9 kB)\n",
      "Collecting outcome (from trio~=0.17->Selenium)\n",
      "  Downloading outcome-1.3.0.post0-py2.py3-none-any.whl.metadata (2.6 kB)\n",
      "Collecting sniffio>=1.3.0 (from trio~=0.17->Selenium)\n",
      "  Downloading sniffio-1.3.1-py3-none-any.whl.metadata (3.9 kB)\n",
      "Collecting cffi>=1.14 (from trio~=0.17->Selenium)\n",
      "  Using cached cffi-1.16.0-cp39-cp39-win_amd64.whl.metadata (1.5 kB)\n",
      "Requirement already satisfied: exceptiongroup in f:\\vs-code\\applied-neural-networks\\.venv\\lib\\site-packages (from trio~=0.17->Selenium) (1.2.0)\n",
      "Collecting wsproto>=0.14 (from trio-websocket~=0.9->Selenium)\n",
      "  Downloading wsproto-1.2.0-py3-none-any.whl.metadata (5.6 kB)\n",
      "Collecting pysocks!=1.5.7,<2.0,>=1.5.6 (from urllib3[socks]<3,>=1.26->Selenium)\n",
      "  Downloading PySocks-1.7.1-py3-none-any.whl (16 kB)\n",
      "Collecting pycparser (from cffi>=1.14->trio~=0.17->Selenium)\n",
      "  Downloading pycparser-2.21-py2.py3-none-any.whl.metadata (1.1 kB)\n",
      "Collecting h11<1,>=0.9.0 (from wsproto>=0.14->trio-websocket~=0.9->Selenium)\n",
      "  Downloading h11-0.14.0-py3-none-any.whl.metadata (8.2 kB)\n",
      "Downloading selenium-4.18.1-py3-none-any.whl (10.0 MB)\n",
      "   ---------------------------------------- 0.0/10.0 MB ? eta -:--:--\n",
      "   ---- ----------------------------------- 1.0/10.0 MB 21.1 MB/s eta 0:00:01\n",
      "   ---------- ----------------------------- 2.7/10.0 MB 28.4 MB/s eta 0:00:01\n",
      "   ------------------ --------------------- 4.7/10.0 MB 33.5 MB/s eta 0:00:01\n",
      "   -------------------------- ------------- 6.6/10.0 MB 35.2 MB/s eta 0:00:01\n",
      "   ---------------------------------- ----- 8.5/10.0 MB 36.3 MB/s eta 0:00:01\n",
      "   ---------------------------------------  10.0/10.0 MB 37.6 MB/s eta 0:00:01\n",
      "   ---------------------------------------  10.0/10.0 MB 37.6 MB/s eta 0:00:01\n",
      "   ---------------------------------------- 10.0/10.0 MB 26.7 MB/s eta 0:00:00\n",
      "Downloading certifi-2024.2.2-py3-none-any.whl (163 kB)\n",
      "   ---------------------------------------- 0.0/163.8 kB ? eta -:--:--\n",
      "   --------------------------------------- 163.8/163.8 kB 10.2 MB/s eta 0:00:00\n",
      "Downloading trio-0.24.0-py3-none-any.whl (460 kB)\n",
      "   ---------------------------------------- 0.0/460.2 kB ? eta -:--:--\n",
      "   ---------------------------------------- 460.2/460.2 kB ? eta 0:00:00\n",
      "Downloading trio_websocket-0.11.1-py3-none-any.whl (17 kB)\n",
      "Downloading urllib3-2.2.1-py3-none-any.whl (121 kB)\n",
      "   ---------------------------------------- 0.0/121.1 kB ? eta -:--:--\n",
      "   ---------------------------------------- 121.1/121.1 kB ? eta 0:00:00\n",
      "Downloading attrs-23.2.0-py3-none-any.whl (60 kB)\n",
      "   ---------------------------------------- 0.0/60.8 kB ? eta -:--:--\n",
      "   --------------------------------- ------ 51.2/60.8 kB ? eta -:--:--\n",
      "   --------------------------------- ------ 51.2/60.8 kB ? eta -:--:--\n",
      "   ---------------------------------------- 60.8/60.8 kB 404.1 kB/s eta 0:00:00\n",
      "Using cached cffi-1.16.0-cp39-cp39-win_amd64.whl (181 kB)\n",
      "Downloading sniffio-1.3.1-py3-none-any.whl (10 kB)\n",
      "Downloading wsproto-1.2.0-py3-none-any.whl (24 kB)\n",
      "Using cached idna-3.6-py3-none-any.whl (61 kB)\n",
      "Downloading outcome-1.3.0.post0-py2.py3-none-any.whl (10 kB)\n",
      "Downloading sortedcontainers-2.4.0-py2.py3-none-any.whl (29 kB)\n",
      "Downloading h11-0.14.0-py3-none-any.whl (58 kB)\n",
      "   ---------------------------------------- 0.0/58.3 kB ? eta -:--:--\n",
      "   ---------------------------------------- 58.3/58.3 kB 3.0 MB/s eta 0:00:00\n",
      "Using cached pycparser-2.21-py2.py3-none-any.whl (118 kB)\n",
      "Installing collected packages: sortedcontainers, urllib3, sniffio, pysocks, pycparser, idna, h11, certifi, attrs, wsproto, outcome, cffi, trio, trio-websocket, Selenium\n",
      "Successfully installed Selenium-4.18.1 attrs-23.2.0 certifi-2024.2.2 cffi-1.16.0 h11-0.14.0 idna-3.6 outcome-1.3.0.post0 pycparser-2.21 pysocks-1.7.1 sniffio-1.3.1 sortedcontainers-2.4.0 trio-0.24.0 trio-websocket-0.11.1 urllib3-2.2.1 wsproto-1.2.0\n"
     ]
    }
   ],
   "source": [
    "!pip install numpy\n",
    "!pip install matplotlib\n",
    "!pip install Selenium"
   ]
  },
  {
   "cell_type": "code",
   "execution_count": 3,
   "metadata": {},
   "outputs": [],
   "source": [
    "import requests\n",
    "import numpy as np\n",
    "import undetected_chromedriver as uc\n",
    "import matplotlib.pyplot as plt\n",
    "from selenium import webdriver\n",
    "from selenium.webdriver.common.keys import Keys\n",
    "from selenium.webdriver.common.by import By"
   ]
  },
  {
   "cell_type": "code",
   "execution_count": 2,
   "metadata": {},
   "outputs": [
    {
     "ename": "InvalidArgumentException",
     "evalue": "Message: invalid argument: cannot parse capability: goog:chromeOptions\nfrom invalid argument: unrecognized chrome option: excludeSwitches\nStacktrace:\n\tGetHandleVerifier [0x003D8C93+51395]\n\t(No symbol) [0x00345EF1]\n\t(No symbol) [0x001FE13A]\n\t(No symbol) [0x0021B625]\n\t(No symbol) [0x0021D1F0]\n\t(No symbol) [0x0021A28C]\n\t(No symbol) [0x0025B518]\n\t(No symbol) [0x0025B188]\n\t(No symbol) [0x0025C2DC]\n\t(No symbol) [0x0025C1FA]\n\t(No symbol) [0x00253C26]\n\t(No symbol) [0x0022C629]\n\t(No symbol) [0x0022D40D]\n\tGetHandleVerifier [0x00756453+3711107]\n\tGetHandleVerifier [0x0079583A+3970154]\n\tGetHandleVerifier [0x00790B28+3950424]\n\tGetHandleVerifier [0x00489C99+776393]\n\t(No symbol) [0x003516C4]\n\t(No symbol) [0x0034C5A8]\n\t(No symbol) [0x0034C759]\n\t(No symbol) [0x0033DD80]\n\tBaseThreadInitThunk [0x76167BA9+25]\n\tRtlInitializeExceptionChain [0x774EBD2B+107]\n\tRtlClearBits [0x774EBCAF+191]\n",
     "output_type": "error",
     "traceback": [
      "\u001b[1;31m---------------------------------------------------------------------------\u001b[0m",
      "\u001b[1;31mInvalidArgumentException\u001b[0m                  Traceback (most recent call last)",
      "Cell \u001b[1;32mIn[2], line 14\u001b[0m\n\u001b[0;32m     11\u001b[0m options\u001b[38;5;241m.\u001b[39madd_experimental_option(\u001b[38;5;124m\"\u001b[39m\u001b[38;5;124museAutomationExtension\u001b[39m\u001b[38;5;124m\"\u001b[39m, \u001b[38;5;28;01mFalse\u001b[39;00m) \n\u001b[0;32m     13\u001b[0m \u001b[38;5;66;03m# Setting the driver path and requesting a page \u001b[39;00m\n\u001b[1;32m---> 14\u001b[0m driver \u001b[38;5;241m=\u001b[39m \u001b[43muc\u001b[49m\u001b[38;5;241;43m.\u001b[39;49m\u001b[43mChrome\u001b[49m\u001b[43m(\u001b[49m\u001b[43moptions\u001b[49m\u001b[38;5;241;43m=\u001b[39;49m\u001b[43moptions\u001b[49m\u001b[43m)\u001b[49m \n\u001b[0;32m     16\u001b[0m driver \u001b[38;5;241m=\u001b[39m uc\u001b[38;5;241m.\u001b[39mChrome()\n",
      "File \u001b[1;32mf:\\VS-Code\\Applied-Neural-Networks\\.venv\\lib\\site-packages\\undetected_chromedriver\\__init__.py:466\u001b[0m, in \u001b[0;36mChrome.__init__\u001b[1;34m(self, options, user_data_dir, driver_executable_path, browser_executable_path, port, enable_cdp_events, desired_capabilities, advanced_elements, keep_alive, log_level, headless, version_main, patcher_force_close, suppress_welcome, use_subprocess, debug, no_sandbox, user_multi_procs, **kw)\u001b[0m\n\u001b[0;32m    459\u001b[0m     \u001b[38;5;28mself\u001b[39m\u001b[38;5;241m.\u001b[39mbrowser_pid \u001b[38;5;241m=\u001b[39m browser\u001b[38;5;241m.\u001b[39mpid\n\u001b[0;32m    462\u001b[0m service \u001b[38;5;241m=\u001b[39m selenium\u001b[38;5;241m.\u001b[39mwebdriver\u001b[38;5;241m.\u001b[39mchromium\u001b[38;5;241m.\u001b[39mservice\u001b[38;5;241m.\u001b[39mChromiumService(\n\u001b[0;32m    463\u001b[0m     \u001b[38;5;28mself\u001b[39m\u001b[38;5;241m.\u001b[39mpatcher\u001b[38;5;241m.\u001b[39mexecutable_path\n\u001b[0;32m    464\u001b[0m )\n\u001b[1;32m--> 466\u001b[0m \u001b[38;5;28;43msuper\u001b[39;49m\u001b[43m(\u001b[49m\u001b[43mChrome\u001b[49m\u001b[43m,\u001b[49m\u001b[43m \u001b[49m\u001b[38;5;28;43mself\u001b[39;49m\u001b[43m)\u001b[49m\u001b[38;5;241;43m.\u001b[39;49m\u001b[38;5;21;43m__init__\u001b[39;49m\u001b[43m(\u001b[49m\n\u001b[0;32m    467\u001b[0m \u001b[43m    \u001b[49m\u001b[43mservice\u001b[49m\u001b[38;5;241;43m=\u001b[39;49m\u001b[43mservice\u001b[49m\u001b[43m,\u001b[49m\n\u001b[0;32m    468\u001b[0m \u001b[43m    \u001b[49m\u001b[43moptions\u001b[49m\u001b[38;5;241;43m=\u001b[39;49m\u001b[43moptions\u001b[49m\u001b[43m,\u001b[49m\n\u001b[0;32m    469\u001b[0m \u001b[43m    \u001b[49m\u001b[43mkeep_alive\u001b[49m\u001b[38;5;241;43m=\u001b[39;49m\u001b[43mkeep_alive\u001b[49m\u001b[43m,\u001b[49m\n\u001b[0;32m    470\u001b[0m \u001b[43m\u001b[49m\u001b[43m)\u001b[49m\n\u001b[0;32m    472\u001b[0m \u001b[38;5;28mself\u001b[39m\u001b[38;5;241m.\u001b[39mreactor \u001b[38;5;241m=\u001b[39m \u001b[38;5;28;01mNone\u001b[39;00m\n\u001b[0;32m    474\u001b[0m \u001b[38;5;28;01mif\u001b[39;00m enable_cdp_events:\n",
      "File \u001b[1;32mf:\\VS-Code\\Applied-Neural-Networks\\.venv\\lib\\site-packages\\selenium\\webdriver\\chrome\\webdriver.py:45\u001b[0m, in \u001b[0;36mWebDriver.__init__\u001b[1;34m(self, options, service, keep_alive)\u001b[0m\n\u001b[0;32m     42\u001b[0m service \u001b[38;5;241m=\u001b[39m service \u001b[38;5;28;01mif\u001b[39;00m service \u001b[38;5;28;01melse\u001b[39;00m Service()\n\u001b[0;32m     43\u001b[0m options \u001b[38;5;241m=\u001b[39m options \u001b[38;5;28;01mif\u001b[39;00m options \u001b[38;5;28;01melse\u001b[39;00m Options()\n\u001b[1;32m---> 45\u001b[0m \u001b[38;5;28;43msuper\u001b[39;49m\u001b[43m(\u001b[49m\u001b[43m)\u001b[49m\u001b[38;5;241;43m.\u001b[39;49m\u001b[38;5;21;43m__init__\u001b[39;49m\u001b[43m(\u001b[49m\n\u001b[0;32m     46\u001b[0m \u001b[43m    \u001b[49m\u001b[43mbrowser_name\u001b[49m\u001b[38;5;241;43m=\u001b[39;49m\u001b[43mDesiredCapabilities\u001b[49m\u001b[38;5;241;43m.\u001b[39;49m\u001b[43mCHROME\u001b[49m\u001b[43m[\u001b[49m\u001b[38;5;124;43m\"\u001b[39;49m\u001b[38;5;124;43mbrowserName\u001b[39;49m\u001b[38;5;124;43m\"\u001b[39;49m\u001b[43m]\u001b[49m\u001b[43m,\u001b[49m\n\u001b[0;32m     47\u001b[0m \u001b[43m    \u001b[49m\u001b[43mvendor_prefix\u001b[49m\u001b[38;5;241;43m=\u001b[39;49m\u001b[38;5;124;43m\"\u001b[39;49m\u001b[38;5;124;43mgoog\u001b[39;49m\u001b[38;5;124;43m\"\u001b[39;49m\u001b[43m,\u001b[49m\n\u001b[0;32m     48\u001b[0m \u001b[43m    \u001b[49m\u001b[43moptions\u001b[49m\u001b[38;5;241;43m=\u001b[39;49m\u001b[43moptions\u001b[49m\u001b[43m,\u001b[49m\n\u001b[0;32m     49\u001b[0m \u001b[43m    \u001b[49m\u001b[43mservice\u001b[49m\u001b[38;5;241;43m=\u001b[39;49m\u001b[43mservice\u001b[49m\u001b[43m,\u001b[49m\n\u001b[0;32m     50\u001b[0m \u001b[43m    \u001b[49m\u001b[43mkeep_alive\u001b[49m\u001b[38;5;241;43m=\u001b[39;49m\u001b[43mkeep_alive\u001b[49m\u001b[43m,\u001b[49m\n\u001b[0;32m     51\u001b[0m \u001b[43m\u001b[49m\u001b[43m)\u001b[49m\n",
      "File \u001b[1;32mf:\\VS-Code\\Applied-Neural-Networks\\.venv\\lib\\site-packages\\selenium\\webdriver\\chromium\\webdriver.py:61\u001b[0m, in \u001b[0;36mChromiumDriver.__init__\u001b[1;34m(self, browser_name, vendor_prefix, options, service, keep_alive)\u001b[0m\n\u001b[0;32m     52\u001b[0m executor \u001b[38;5;241m=\u001b[39m ChromiumRemoteConnection(\n\u001b[0;32m     53\u001b[0m     remote_server_addr\u001b[38;5;241m=\u001b[39m\u001b[38;5;28mself\u001b[39m\u001b[38;5;241m.\u001b[39mservice\u001b[38;5;241m.\u001b[39mservice_url,\n\u001b[0;32m     54\u001b[0m     browser_name\u001b[38;5;241m=\u001b[39mbrowser_name,\n\u001b[1;32m   (...)\u001b[0m\n\u001b[0;32m     57\u001b[0m     ignore_proxy\u001b[38;5;241m=\u001b[39moptions\u001b[38;5;241m.\u001b[39m_ignore_local_proxy,\n\u001b[0;32m     58\u001b[0m )\n\u001b[0;32m     60\u001b[0m \u001b[38;5;28;01mtry\u001b[39;00m:\n\u001b[1;32m---> 61\u001b[0m     \u001b[38;5;28;43msuper\u001b[39;49m\u001b[43m(\u001b[49m\u001b[43m)\u001b[49m\u001b[38;5;241;43m.\u001b[39;49m\u001b[38;5;21;43m__init__\u001b[39;49m\u001b[43m(\u001b[49m\u001b[43mcommand_executor\u001b[49m\u001b[38;5;241;43m=\u001b[39;49m\u001b[43mexecutor\u001b[49m\u001b[43m,\u001b[49m\u001b[43m \u001b[49m\u001b[43moptions\u001b[49m\u001b[38;5;241;43m=\u001b[39;49m\u001b[43moptions\u001b[49m\u001b[43m)\u001b[49m\n\u001b[0;32m     62\u001b[0m \u001b[38;5;28;01mexcept\u001b[39;00m \u001b[38;5;167;01mException\u001b[39;00m:\n\u001b[0;32m     63\u001b[0m     \u001b[38;5;28mself\u001b[39m\u001b[38;5;241m.\u001b[39mquit()\n",
      "File \u001b[1;32mf:\\VS-Code\\Applied-Neural-Networks\\.venv\\lib\\site-packages\\selenium\\webdriver\\remote\\webdriver.py:208\u001b[0m, in \u001b[0;36mWebDriver.__init__\u001b[1;34m(self, command_executor, keep_alive, file_detector, options)\u001b[0m\n\u001b[0;32m    206\u001b[0m \u001b[38;5;28mself\u001b[39m\u001b[38;5;241m.\u001b[39m_authenticator_id \u001b[38;5;241m=\u001b[39m \u001b[38;5;28;01mNone\u001b[39;00m\n\u001b[0;32m    207\u001b[0m \u001b[38;5;28mself\u001b[39m\u001b[38;5;241m.\u001b[39mstart_client()\n\u001b[1;32m--> 208\u001b[0m \u001b[38;5;28;43mself\u001b[39;49m\u001b[38;5;241;43m.\u001b[39;49m\u001b[43mstart_session\u001b[49m\u001b[43m(\u001b[49m\u001b[43mcapabilities\u001b[49m\u001b[43m)\u001b[49m\n",
      "File \u001b[1;32mf:\\VS-Code\\Applied-Neural-Networks\\.venv\\lib\\site-packages\\undetected_chromedriver\\__init__.py:724\u001b[0m, in \u001b[0;36mChrome.start_session\u001b[1;34m(self, capabilities, browser_profile)\u001b[0m\n\u001b[0;32m    722\u001b[0m \u001b[38;5;28;01mif\u001b[39;00m \u001b[38;5;129;01mnot\u001b[39;00m capabilities:\n\u001b[0;32m    723\u001b[0m     capabilities \u001b[38;5;241m=\u001b[39m \u001b[38;5;28mself\u001b[39m\u001b[38;5;241m.\u001b[39moptions\u001b[38;5;241m.\u001b[39mto_capabilities()\n\u001b[1;32m--> 724\u001b[0m \u001b[38;5;28;43msuper\u001b[39;49m\u001b[43m(\u001b[49m\u001b[43mselenium\u001b[49m\u001b[38;5;241;43m.\u001b[39;49m\u001b[43mwebdriver\u001b[49m\u001b[38;5;241;43m.\u001b[39;49m\u001b[43mchrome\u001b[49m\u001b[38;5;241;43m.\u001b[39;49m\u001b[43mwebdriver\u001b[49m\u001b[38;5;241;43m.\u001b[39;49m\u001b[43mWebDriver\u001b[49m\u001b[43m,\u001b[49m\u001b[43m \u001b[49m\u001b[38;5;28;43mself\u001b[39;49m\u001b[43m)\u001b[49m\u001b[38;5;241;43m.\u001b[39;49m\u001b[43mstart_session\u001b[49m\u001b[43m(\u001b[49m\n\u001b[0;32m    725\u001b[0m \u001b[43m    \u001b[49m\u001b[43mcapabilities\u001b[49m\n\u001b[0;32m    726\u001b[0m \u001b[43m\u001b[49m\u001b[43m)\u001b[49m\n",
      "File \u001b[1;32mf:\\VS-Code\\Applied-Neural-Networks\\.venv\\lib\\site-packages\\selenium\\webdriver\\remote\\webdriver.py:292\u001b[0m, in \u001b[0;36mWebDriver.start_session\u001b[1;34m(self, capabilities)\u001b[0m\n\u001b[0;32m    285\u001b[0m \u001b[38;5;250m\u001b[39m\u001b[38;5;124;03m\"\"\"Creates a new session with the desired capabilities.\u001b[39;00m\n\u001b[0;32m    286\u001b[0m \n\u001b[0;32m    287\u001b[0m \u001b[38;5;124;03m:Args:\u001b[39;00m\n\u001b[0;32m    288\u001b[0m \u001b[38;5;124;03m - capabilities - a capabilities dict to start the session with.\u001b[39;00m\n\u001b[0;32m    289\u001b[0m \u001b[38;5;124;03m\"\"\"\u001b[39;00m\n\u001b[0;32m    291\u001b[0m caps \u001b[38;5;241m=\u001b[39m _create_caps(capabilities)\n\u001b[1;32m--> 292\u001b[0m response \u001b[38;5;241m=\u001b[39m \u001b[38;5;28;43mself\u001b[39;49m\u001b[38;5;241;43m.\u001b[39;49m\u001b[43mexecute\u001b[49m\u001b[43m(\u001b[49m\u001b[43mCommand\u001b[49m\u001b[38;5;241;43m.\u001b[39;49m\u001b[43mNEW_SESSION\u001b[49m\u001b[43m,\u001b[49m\u001b[43m \u001b[49m\u001b[43mcaps\u001b[49m\u001b[43m)\u001b[49m[\u001b[38;5;124m\"\u001b[39m\u001b[38;5;124mvalue\u001b[39m\u001b[38;5;124m\"\u001b[39m]\n\u001b[0;32m    293\u001b[0m \u001b[38;5;28mself\u001b[39m\u001b[38;5;241m.\u001b[39msession_id \u001b[38;5;241m=\u001b[39m response\u001b[38;5;241m.\u001b[39mget(\u001b[38;5;124m\"\u001b[39m\u001b[38;5;124msessionId\u001b[39m\u001b[38;5;124m\"\u001b[39m)\n\u001b[0;32m    294\u001b[0m \u001b[38;5;28mself\u001b[39m\u001b[38;5;241m.\u001b[39mcaps \u001b[38;5;241m=\u001b[39m response\u001b[38;5;241m.\u001b[39mget(\u001b[38;5;124m\"\u001b[39m\u001b[38;5;124mcapabilities\u001b[39m\u001b[38;5;124m\"\u001b[39m)\n",
      "File \u001b[1;32mf:\\VS-Code\\Applied-Neural-Networks\\.venv\\lib\\site-packages\\selenium\\webdriver\\remote\\webdriver.py:347\u001b[0m, in \u001b[0;36mWebDriver.execute\u001b[1;34m(self, driver_command, params)\u001b[0m\n\u001b[0;32m    345\u001b[0m response \u001b[38;5;241m=\u001b[39m \u001b[38;5;28mself\u001b[39m\u001b[38;5;241m.\u001b[39mcommand_executor\u001b[38;5;241m.\u001b[39mexecute(driver_command, params)\n\u001b[0;32m    346\u001b[0m \u001b[38;5;28;01mif\u001b[39;00m response:\n\u001b[1;32m--> 347\u001b[0m     \u001b[38;5;28;43mself\u001b[39;49m\u001b[38;5;241;43m.\u001b[39;49m\u001b[43merror_handler\u001b[49m\u001b[38;5;241;43m.\u001b[39;49m\u001b[43mcheck_response\u001b[49m\u001b[43m(\u001b[49m\u001b[43mresponse\u001b[49m\u001b[43m)\u001b[49m\n\u001b[0;32m    348\u001b[0m     response[\u001b[38;5;124m\"\u001b[39m\u001b[38;5;124mvalue\u001b[39m\u001b[38;5;124m\"\u001b[39m] \u001b[38;5;241m=\u001b[39m \u001b[38;5;28mself\u001b[39m\u001b[38;5;241m.\u001b[39m_unwrap_value(response\u001b[38;5;241m.\u001b[39mget(\u001b[38;5;124m\"\u001b[39m\u001b[38;5;124mvalue\u001b[39m\u001b[38;5;124m\"\u001b[39m, \u001b[38;5;28;01mNone\u001b[39;00m))\n\u001b[0;32m    349\u001b[0m     \u001b[38;5;28;01mreturn\u001b[39;00m response\n",
      "File \u001b[1;32mf:\\VS-Code\\Applied-Neural-Networks\\.venv\\lib\\site-packages\\selenium\\webdriver\\remote\\errorhandler.py:229\u001b[0m, in \u001b[0;36mErrorHandler.check_response\u001b[1;34m(self, response)\u001b[0m\n\u001b[0;32m    227\u001b[0m         alert_text \u001b[38;5;241m=\u001b[39m value[\u001b[38;5;124m\"\u001b[39m\u001b[38;5;124malert\u001b[39m\u001b[38;5;124m\"\u001b[39m]\u001b[38;5;241m.\u001b[39mget(\u001b[38;5;124m\"\u001b[39m\u001b[38;5;124mtext\u001b[39m\u001b[38;5;124m\"\u001b[39m)\n\u001b[0;32m    228\u001b[0m     \u001b[38;5;28;01mraise\u001b[39;00m exception_class(message, screen, stacktrace, alert_text)  \u001b[38;5;66;03m# type: ignore[call-arg]  # mypy is not smart enough here\u001b[39;00m\n\u001b[1;32m--> 229\u001b[0m \u001b[38;5;28;01mraise\u001b[39;00m exception_class(message, screen, stacktrace)\n",
      "\u001b[1;31mInvalidArgumentException\u001b[0m: Message: invalid argument: cannot parse capability: goog:chromeOptions\nfrom invalid argument: unrecognized chrome option: excludeSwitches\nStacktrace:\n\tGetHandleVerifier [0x003D8C93+51395]\n\t(No symbol) [0x00345EF1]\n\t(No symbol) [0x001FE13A]\n\t(No symbol) [0x0021B625]\n\t(No symbol) [0x0021D1F0]\n\t(No symbol) [0x0021A28C]\n\t(No symbol) [0x0025B518]\n\t(No symbol) [0x0025B188]\n\t(No symbol) [0x0025C2DC]\n\t(No symbol) [0x0025C1FA]\n\t(No symbol) [0x00253C26]\n\t(No symbol) [0x0022C629]\n\t(No symbol) [0x0022D40D]\n\tGetHandleVerifier [0x00756453+3711107]\n\tGetHandleVerifier [0x0079583A+3970154]\n\tGetHandleVerifier [0x00790B28+3950424]\n\tGetHandleVerifier [0x00489C99+776393]\n\t(No symbol) [0x003516C4]\n\t(No symbol) [0x0034C5A8]\n\t(No symbol) [0x0034C759]\n\t(No symbol) [0x0033DD80]\n\tBaseThreadInitThunk [0x76167BA9+25]\n\tRtlInitializeExceptionChain [0x774EBD2B+107]\n\tRtlClearBits [0x774EBCAF+191]\n"
     ]
    }
   ],
   "source": [
    "# Create Chromeoptions instance \n",
    "options = webdriver.ChromeOptions() \n",
    " \n",
    "# Adding argument to disable the AutomationControlled flag \n",
    "options.add_argument(\"--disable-blink-features=AutomationControlled\") \n",
    " \n",
    "# Exclude the collection of enable-automation switches \n",
    "options.add_experimental_option(\"excludeSwitches\", [\"enable-automation\"]) \n",
    " \n",
    "# Turn-off userAutomationExtension \n",
    "options.add_experimental_option(\"useAutomationExtension\", False) \n",
    " \n",
    "# Setting the driver path and requesting a page \n",
    "driver = webdriver.Chrome(options=options) \n",
    "\n",
    "driver = webdriver.Chrome()"
   ]
  },
  {
   "cell_type": "code",
   "execution_count": 32,
   "metadata": {},
   "outputs": [],
   "source": [
    "# Alternative webdriver\n",
    "driver = uc.Chrome()"
   ]
  },
  {
   "cell_type": "markdown",
   "metadata": {},
   "source": [
    "# Enlaces:\n",
    "Teatro falla: https://www.fotocasa.es/es/comprar/viviendas/cadiz-capital/alameda-mentidero-teatro-falla/1\n",
    "\n",
    "Bahia blanca: https://www.fotocasa.es/es/comprar/viviendas/cadiz-capital/asdrubal-bahia-blanca/l\n",
    "\n",
    "Corte-Inglés: https://www.fotocasa.es/es/comprar/viviendas/cadiz-capital/astilleros-la-paz-loreto-el-corte-ingles/l\n",
    "\n",
    "Centro-Histórico: https://www.fotocasa.es/es/comprar/viviendas/cadiz-capital/centro-historico/l\n"
   ]
  },
  {
   "cell_type": "code",
   "execution_count": 5,
   "metadata": {},
   "outputs": [],
   "source": [
    "driver.get(\"https://www.fotocasa.es/es/comprar/viviendas/cadiz-capital/centro-historico/l\")"
   ]
  },
  {
   "cell_type": "code",
   "execution_count": 10,
   "metadata": {},
   "outputs": [],
   "source": [
    "all_links =[]"
   ]
  },
  {
   "cell_type": "code",
   "execution_count": 19,
   "metadata": {},
   "outputs": [],
   "source": [
    "elements = driver.find_elements(By.CSS_SELECTOR,'[href]')\n",
    "links = [elements.get_attribute('href') for elements in elements]\n",
    "all_links.extend(links)"
   ]
  },
  {
   "cell_type": "code",
   "execution_count": 20,
   "metadata": {},
   "outputs": [],
   "source": [
    "import re\n",
    "\n",
    "filtered_links = [link for link in all_links if re.match(r\"https:\\/\\/www.fotocasa.es\\/es\\/comprar\\/vivienda\\/cadiz-capital\\/.*\\/d\\?from=list\", link)]\n",
    "filtered_links = list(set(filtered_links))\n",
    "\n"
   ]
  },
  {
   "cell_type": "code",
   "execution_count": 21,
   "metadata": {},
   "outputs": [
    {
     "data": {
      "text/plain": [
       "256"
      ]
     },
     "execution_count": 21,
     "metadata": {},
     "output_type": "execute_result"
    }
   ],
   "source": [
    "len(filtered_links)"
   ]
  },
  {
   "cell_type": "code",
   "execution_count": 22,
   "metadata": {},
   "outputs": [],
   "source": [
    "with open('./links/centro_historico.txt', 'w') as file:\n",
    "    for link in filtered_links:\n",
    "        file.write(link + '\\n')"
   ]
  },
  {
   "cell_type": "markdown",
   "metadata": {},
   "source": [
    "# Extracción de Datos de cada Link\n"
   ]
  },
  {
   "cell_type": "code",
   "execution_count": 4,
   "metadata": {},
   "outputs": [],
   "source": [
    "driver.get(\"https://www.fotocasa.es/es/comprar/vivienda/cadiz-capital/aire-acondicionado-ascensor/181784044/d?from=list\")"
   ]
  },
  {
   "cell_type": "code",
   "execution_count": null,
   "metadata": {},
   "outputs": [],
   "source": [
    "driver.find_element(By.CLASS_NAME, 'sui-MoleculeCollapsible-btn').click()"
   ]
  },
  {
   "cell_type": "code",
   "execution_count": 27,
   "metadata": {},
   "outputs": [
    {
     "name": "stdout",
     "output_type": "stream",
     "text": [
      "Descripción: \n",
      " Magnífico piso en perfectas condiciones para entrar a vivir, muy cerca de la estación de tren de San Severiano con muchos comercios, bares y parada de transportes publicos, se encuentra a 200 m de la playa de Santa María a pie y del paseo maritimo de Cádiz para recorrerlo hasta los campos del sur sintiendo el calor del sol y ver el maravilloso paisaje de un oceáno inmenso azul. Situada en una de las urbanizaciones mas prestigiosas de Cádiz.\n",
      "\n",
      "La vivienda se situa en una segunda planta con orientación Este. Todas sus habitaciones y estancias son exteriores por lo que tendrás maravillosas vistas y luz natural todo el día y para tu comodidad dispone de dos ascensores.\n",
      "\n",
      "Entrando en en el domicilio nos recibe un hall de entrada, con cocina independiente con zona de comedor y puertas correderas que enlazan al salón, tres dormitorios y cuarto de baño.\n",
      "Carpintería exterior PVC/Clima\n",
      "No dudes en visitarlo, te sentiras como en tu casa.\n",
      "\n",
      "\n",
      "Por mandato expreso del propietario, comercializamos este inmueble en EXCLUSIVA , lo que le garantiza el acceso a toda la información, a un servicio de calidad, un trato fácil, sencillo y sin interferencias de terceros. Por este motivo, se ruega no molestar al propietario, a los ocupantes de la propiedad o a los vecinos. Muchas gracias por su comprensión.\n",
      "\n",
      "De acuerdo con lo prevenido en el Decreto 218/2005, de 11 de octubre, se informa al cliente que los Gastos Notariales, Registrales, impuesto de transmisiones (ITP), Honorarios de intermediación, Gastos financieros, y otros gastos inherentes a la compraventa no están incluidos en el precio.\n"
     ]
    }
   ],
   "source": [
    "# Get description\n",
    "description = driver.find_element(By.CLASS_NAME, 'fc-DetailDescription')\n",
    "print(\"Descripción: \\n\", description.text)"
   ]
  },
  {
   "cell_type": "code",
   "execution_count": 23,
   "metadata": {},
   "outputs": [
    {
     "name": "stdout",
     "output_type": "stream",
     "text": [
      "Tipo de inmueble\n",
      "Piso\n",
      "Orientación\n",
      "Este\n",
      "Antigüedad\n",
      "30 a 50 años\n",
      "Planta\n",
      "Sótano\n",
      "Ascensor\n",
      "Sí\n",
      "Consumo energía\n",
      "G\n",
      "999 kW h m² / año\n",
      "Emisiones\n",
      "G\n",
      "999 kg CO₂ m² / año\n"
     ]
    }
   ],
   "source": [
    "characteristics = driver.find_elements(By.CLASS_NAME, 're-DetailFeaturesList-feature')\n",
    "for i in range(len(characteristics)):\n",
    "    print(characteristics[i].text)"
   ]
  },
  {
   "cell_type": "code",
   "execution_count": 26,
   "metadata": {},
   "outputs": [
    {
     "name": "stdout",
     "output_type": "stream",
     "text": [
      "3 habs.\n",
      "1 baño\n",
      "88 m²\n",
      "Sótano\n"
     ]
    }
   ],
   "source": [
    "# Get header description\n",
    "header = driver.find_elements(By.CLASS_NAME, 're-DetailHeader-features')\n",
    "for i in range(len(header)):\n",
    "    print(header[i].text)"
   ]
  },
  {
   "cell_type": "code",
   "execution_count": 29,
   "metadata": {},
   "outputs": [
    {
     "data": {
      "text/plain": [
       "'200.000 €'"
      ]
     },
     "execution_count": 29,
     "metadata": {},
     "output_type": "execute_result"
    }
   ],
   "source": [
    "# Get Price\n",
    "price = driver.find_element(By.CLASS_NAME, 're-DetailHeader-price')\n",
    "price.text"
   ]
  },
  {
   "cell_type": "code",
   "execution_count": 53,
   "metadata": {},
   "outputs": [],
   "source": [
    "from selenium import webdriver\n",
    "from selenium.webdriver.chrome.options import Options\n",
    "\n",
    "\n"
   ]
  },
  {
   "cell_type": "code",
   "execution_count": 33,
   "metadata": {},
   "outputs": [],
   "source": [
    "driver = uc.Chrome()"
   ]
  },
  {
   "cell_type": "code",
   "execution_count": 43,
   "metadata": {},
   "outputs": [],
   "source": [
    "driver.find_element(By.CLASS_NAME, 'icon-arrow-right-after').click()"
   ]
  },
  {
   "cell_type": "code",
   "execution_count": 8,
   "metadata": {},
   "outputs": [],
   "source": [
    "driver.get(\"https://bot.sannysoft.com/\")"
   ]
  },
  {
   "cell_type": "code",
   "execution_count": 69,
   "metadata": {},
   "outputs": [
    {
     "name": "stdout",
     "output_type": "stream",
     "text": [
      "1 hab.\n",
      "1 baño\n",
      "50 m²\n",
      "Descripción: \n",
      " Se vende apartamento en el Mentidero- Teatro Falla.\n",
      "Este cuenta con 50m2 distribuídos en 1 habitación, 1 baño, salón, cocina equipada y amueblada, calefacción individual eléctrica y ascensor.\n",
      "¡Llamenos y pregunte!\n",
      "\n",
      "En cumplimiento del Decreto de la Junta de Andalucía 218/2005 del 11 de Octubre, se informa a los clientes que los gastos notariales, registrales, la gestoría, los impuestos (ITP, AJD o IVA), los gastos inherentes a la compra, no están incluidos en el precio.\n",
      "#ref:258\n",
      "Tipo de inmueble\n",
      "Apartamento\n",
      "Ascensor\n",
      "Sí\n",
      "Amueblado\n",
      "Sí\n",
      "Consumo energía\n",
      "G\n",
      "999 kW h m² / año\n",
      "Emisiones\n",
      "G\n",
      "999 kg CO₂ m² / año\n",
      "Precio:  199.000 €\n"
     ]
    }
   ],
   "source": [
    "import time\n",
    "with open('./links/centro_historico.txt', 'r') as file:\n",
    "    links = file.readlines()\n",
    "\n",
    "\n",
    "data = []\n",
    "i=0\n",
    "cont = input()\n",
    "\n",
    "while cont != '0':\n",
    "    tmp_data = []\n",
    "    # Get header description\n",
    "    header = driver.find_elements(By.CLASS_NAME, 're-DetailHeader-features')\n",
    "    header_data = []\n",
    "    for j in range(len(header)):\n",
    "        print(header[j].text)\n",
    "        header_data.append(header[j].text)\n",
    "    tmp_data.append(header_data)\n",
    "\n",
    "    # Get description\n",
    "    description = driver.find_element(By.CLASS_NAME, 'fc-DetailDescription')\n",
    "    print(\"Descripción: \\n\", description.text)\n",
    "    tmp_data.append(description.text)\n",
    "\n",
    "    # Get characteristics\n",
    "    characteristics = driver.find_elements(By.CLASS_NAME, 're-DetailFeaturesList-feature')\n",
    "    characteristics_data = []\n",
    "    for j in range(len(characteristics)):\n",
    "        print(characteristics[j].text)\n",
    "        characteristics_data.append(characteristics[j].text)\n",
    "    tmp_data.append(characteristics_data)\n",
    "\n",
    "    # Get Price\n",
    "    price = driver.find_element(By.CLASS_NAME, 're-DetailHeader-price')\n",
    "    print(\"Precio: \",price.text)\n",
    "    tmp_data.append(price.text)\n",
    "\n",
    "    data.append(tmp_data)\n",
    "    i+=1\n",
    "    cont = input()\n"
   ]
  },
  {
   "cell_type": "code",
   "execution_count": 12,
   "metadata": {},
   "outputs": [],
   "source": [
    "data = []"
   ]
  },
  {
   "cell_type": "code",
   "execution_count": 28,
   "metadata": {},
   "outputs": [
    {
     "name": "stdout",
     "output_type": "stream",
     "text": [
      "2 habs.\n",
      "1 baño\n",
      "60 m²\n",
      "2ª Planta\n",
      "Descripción: \n",
      " Inmobiliaria Vivencadiz os presenta este inmueble completamente reformado, interior pero con muchísima luz en una zona ideal.\n",
      "\n",
      "Consta de salón-cocina, 2 habitaciones dobles muy amplias y baño todo completamente nuevo, se entrega sin muebles.\n",
      "\n",
      "Si estas pensando en vender tu casa no dudes en contactarnos.\n",
      "\n",
      "¿a que esperas a venir a verlo?\n",
      "\n",
      "*gastos, impuestos y honorarios no incluidos en el precio.\n",
      "Tipo de inmueble\n",
      "Piso\n",
      "Estado\n",
      "Casi nuevo\n",
      "Planta\n",
      "2ª planta\n",
      "Consumo energía\n",
      "C\n",
      "999 kW h m² / año\n",
      "Emisiones\n",
      "D\n",
      "999 kg CO₂ m² / año\n",
      "Precio:  174.000 €\n"
     ]
    }
   ],
   "source": [
    "tmp_data = []\n",
    "# Get header description\n",
    "header = driver.find_elements(By.CLASS_NAME, 're-DetailHeader-features')\n",
    "header_data = []\n",
    "for j in range(len(header)):\n",
    "    print(header[j].text)\n",
    "    header_data.append(header[j].text)\n",
    "tmp_data.append(header_data)\n",
    "\n",
    "# Get description\n",
    "description = driver.find_element(By.CLASS_NAME, 'fc-DetailDescription')\n",
    "print(\"Descripción: \\n\", description.text)\n",
    "tmp_data.append(description.text)\n",
    "\n",
    "# Get characteristics\n",
    "characteristics = driver.find_elements(By.CLASS_NAME, 're-DetailFeaturesList-feature')\n",
    "characteristics_data = []\n",
    "for j in range(len(characteristics)):\n",
    "    print(characteristics[j].text)\n",
    "    characteristics_data.append(characteristics[j].text)\n",
    "tmp_data.append(characteristics_data)\n",
    "\n",
    "# Get Price\n",
    "price = driver.find_element(By.CLASS_NAME, 're-DetailHeader-price')\n",
    "print(\"Precio: \",price.text)\n",
    "tmp_data.append(price.text)\n",
    "\n",
    "data.append(tmp_data)"
   ]
  },
  {
   "cell_type": "code",
   "execution_count": 25,
   "metadata": {},
   "outputs": [
    {
     "data": {
      "text/plain": [
       "[[['2 habs.\\n1 baño\\n88 m²\\n3ª Planta'],\n",
       "  'Piso en CENTRO CIUDAD, con 88 m² construidos, 2 dormitorios, 1 baños, buen estado, interior, planta 3, 3 plantas del edificio, . SIN COMISIÓN INMOBILIARIA PARA EL COMPRADOR.\\n\\nCASASCADIZ les presenta este fantástico ático situado muy cerca de la Plaza del Mentidero, en Cádiz.\\n\\nPiso situado en una tercera planta, con una superficie construida de 88 m2, distribuidos en hall de entrada, cocina independiente, salón-comedor, pasillo distribuidor con dos dormitorios y un baño.\\n\\nZona muy consolidada, justo detrás de la Facultad de Filosofía y Letras, al lado del Parque Genovés. A escasos 3 minutos del Gran Teatro Falla y 10 minutos de la Playa de la Caleta.\\n\\nSin comisión inmobiliaria, no lo dude y solicite visita sin compromiso.\\n\\nPueden contactar llamando o via WhatsApp:\\nCarlos: 698,498,630 o bien escribir a: carlos@casascadiz,com',\n",
       "  ['Tipo de inmueble\\nPiso',\n",
       "   'Planta\\n3ª planta',\n",
       "   'Consumo energía\\nG\\n999 kW h m² / año',\n",
       "   'Emisiones\\nG\\n999 kg CO₂ m² / año'],\n",
       "  '190.000 €'],\n",
       " [['3 habs.\\n1 baño\\n105 m²\\n2ª Planta'],\n",
       "  'Presentamos a la venta esta magnífica vivienda en pleno centro de Cádiz a escasos metros de la Plaza de San Antonio y de las principales zonas comerciales y turísticas de la ciudad. Ubicada en edificio del siglo XIX, cuenta con la distribución propia de la arquitectura gaditana de la época, con un patio central alrededor del cual se distribuye parte de la vivienda completando el resto con la zona exterior con tres balcones a la calle. La vivienda cuenta con tres dormitorios amplios, dos de ellos con balcón a la calle, uno de los cuales hace las veces de sala de estar en la actualidad. Cocina amueblada con ventilación a galería principal que rodea el patio del edificio. Cuarto de baño completo con plato de ducha amplio. Salón amplio con balcón a la calle.\\n* Gastos, impuestos y honorarios de la agencia no incluidos en el precio.\\n\\nSi estás interesado en esta propiedad pero tienes que vender, contacta con nosotros, te ayudamos a encontrar comprador para tu vivienda.',\n",
       "  ['Tipo de inmueble\\nPiso',\n",
       "   'Estado\\nMuy bien',\n",
       "   'Planta\\n2ª planta',\n",
       "   'Consumo energía\\nG\\n999 kW h m² / año',\n",
       "   'Emisiones\\nG\\n999 kg CO₂ m² / año'],\n",
       "  '234.000 €'],\n",
       " [['4 habs.\\n2 baños\\n124 m²\\n1ª Planta'],\n",
       "  'PRECIOSO piso en una ubicación privilegiada, en Zona de San Antonio junto a la espectacular Alameda Apodaca.\\nLa finca, que fue construida en el año 1993, tiene una entrada señorial con dos espectaculares patios que te enamorarán al verlos ya que, sin lugar a dudas, es una de las más elegantes de la ciudad. A esto hay que añadir que dispone de ASCENSOR lo que hará más cómoda la vida de toda la familia.\\nUna vez se accede a la vivienda, nos encontramos con un amplio recibidor con armario empotrado. Se accede a un hermoso y amplio salón con un cierro a la calle.\\nDispone de 4 habitaciones. La primera de ellas con armario empotrado y balcón a la calle, actualmente está siendo usado como cuarto de estar, la habitación principal, se caracteriza por disponer de armario empotrado, un fantástico cierro a la calle y un baño tipo suite para disfrutar de toda la comodidad que necesitas.\\nA esto se le añade otra habitación doble y una habitación individual, perfectas para que cada miembro de tu familia pueda tener su espacio propio.\\nLa cocina se encuentra totalmente equipada con todo lo necesario para ser disfrutada desde el primer día. En ella sin lugar a dudas podrás demostrar tus dotes culinarias.\\nLos suelos son de mármol lo que resalta la belleza del piso, preinstalación de aire acondicionado, las ventanas tipo climalit con doble acristalamiento, que aislan de todo tipo de ruidos y hacen que se cree un ambiente relajado y tranquilo.\\nA todo ello se le une su fantástica ubicación, ya que se encuentra en un enclave privilegiado y emblemático, con todo lo que puedas tener al alcance de tu mano...Centros Médicos, supermercados, parada de bus, Plaza de San Antonio, Plaza de Mina, Alameda donde podrás disfrutar de relajantes paseos y ver preciosos atardeceres, y un largo etc.\\nNo pierdas la oportunidad de vivir en Cádiz en un piso y en una zona de LUJO!\\nContacte con nosotros para más información, sin compromiso.\\nHonorarios, gastos e impuestos derivados de la compraventa no incluidos en el precio.\\nEl consumidor tiene el documento DIA a su disposición.',\n",
       "  ['Tipo de inmueble\\nPiso',\n",
       "   'Estado\\nMuy bien',\n",
       "   'Antigüedad\\n30 a 50 años',\n",
       "   'Planta\\n1ª planta',\n",
       "   'Ascensor\\nSí',\n",
       "   'Consumo energía\\nExento',\n",
       "   'Emisiones\\nExento'],\n",
       "  '360.000 €'],\n",
       " [['4 habs.\\n1 baño\\n102 m²\\n3ª Planta'],\n",
       "  'ZONA ALAMEDA – Estupendo piso situado en el casco histórico de Cádiz, rodeado de las calles y plazas más típicas, de edificios llenos de historia y de una gran oferta de ocio y cultural que hacen que la zona esté llena de vida durante todo el día.\\n\\n102 m2, 4 habitaciones, 1 baño, salón con BALCONES a la calle y cocina. Listo para ser disfrutado desde el primer día. Gran OCASIÓN para adquirir una casa en una de las zonas más cotizadas de la ciudad, ideal para realizar una buena INVERSIÓN. Distancia al mar: 100m\\n\\ne-INMOBILIA: te asomamos a tus sueños.. .\\n\\n* Nuestros precios no incluyen impuestos, gastos notariales, registrales ni honorarios de la agencia, los cuales le serán detallados en su visita con total TRANSPARENCIA.\\n\\n** e-INMOBILIA pone a su disposición el documento informativo abreviado de la propiedad (según decreto 218/2005, del 11 de octubre). Disponemos de seguro de caución, para la protección de importes entregados como señal para la reserva del inmueble.\\n\\n*** Esta vivienda es comercializada en EXCLUSIVA por mandato expreso del propietario, lo que le garantiza el acceso a toda la información con total claridad, sencillez y transparencia. Por este motivo, se ruega no molesten al propietario, a los ocupantes o a los vecinos. Muchas gracias por su comprensión y colaboración.',\n",
       "  ['Tipo de inmueble\\nPiso',\n",
       "   'Orientación\\nEste',\n",
       "   'Estado\\nBien',\n",
       "   'Antigüedad\\n20 a 30 años',\n",
       "   'Planta\\n3ª planta',\n",
       "   'Consumo energía\\nF\\n142.8 kW h m² / año',\n",
       "   'Emisiones\\nE\\n29.21 kg CO₂ m² / año'],\n",
       "  '190.000 €'],\n",
       " [['3 habs.\\n1 baño\\n94 m²\\n1ª Planta'],\n",
       "  'Te presentamos la oportunidad de vivir en pleno casco histórico de la ciudad de Cádiz, a escasos 20 metros de la plaza de San Antonio. La vivienda esta distribuida en salón, cocina independiente, tres dormitorios dobles y baño, lo que hace que sea idónea si estás buscando ese Hogar para toda tu familia, en donde cada uno pueda tener ese espacio de independencia que tan necesaria es. Además la vivienda es exterior con dos cierros a la calle y un balcón, lo que acredita su ventilación y luminosidad.\\nEstamos convencidos que se adaptará a tus necesidades, tanto si la quieres para crear tu Hogar, como si lo que vas buscando es una inversión. Por su ubicación tendrás a mano todo lo que puedas necesitar como supermercados, farmacia, zona de ocio y restauración, parques y, por supuesto, una maravillosa playa por la que pasear con atardeceres que solo se pueden ver en la Caleta... Te invitamos a que vengas a visitarla, estamos seguros que te convencerá.\\nImpuestos, honorarios y gastos no incluidos en el precio',\n",
       "  ['Tipo de inmueble\\nPiso',\n",
       "   'Estado\\nBien',\n",
       "   'Planta\\n1ª planta',\n",
       "   'Consumo energía\\nExento',\n",
       "   'Emisiones\\nExento'],\n",
       "  '236.000 €'],\n",
       " [['2 habs.\\n1 baño\\n60 m²\\nBajos'],\n",
       "  'ZONA TEATRO FALLA - Bonito piso en planta baja en edificio de reciente construcción junto a la universidad y a un paso de la Playa de la Caleta. 60 m2, 2 habitaciones, 2 patios privados, suelos de mármol, excelentes calidades y edificio con dos ascensores. Listo para entrar a vivir o invertir para alquiler por su cercanía a las principales facultades universitarias. El inmueble cuenta con LICENCIA TURISTICA\\n\\nDistancia la playa: 700 metros.\\n\\nNuestros precios no incluyen impuestos ni honorarios, los cuales serán detallados en la visita con total\\nTransparencia.\\n\\ne-INMOBILIA: te asomamos a tus sueños...',\n",
       "  ['Tipo de inmueble\\nPiso',\n",
       "   'Antigüedad\\n10 a 20 años',\n",
       "   'Planta\\nBajos',\n",
       "   'Ascensor\\nSí',\n",
       "   'Consumo energía\\nG\\n999 kW h m² / año',\n",
       "   'Emisiones\\nG\\n999 kg CO₂ m² / año'],\n",
       "  '175.000 €'],\n",
       " [['2 habs.\\n2 baños\\n89 m²\\n1ª Planta'],\n",
       "  'CÁDIZ INMOBILIARIA les presenta en exclusiva esta promoción de lujo en pleno Centro Histórico. Pocas veces se juntan el mejor diseñador y promotor en una misma ciudad, cuando esto sucede podemos admirar verdaderas obras de arte, las cuales se plasmarán en un edificio emblemático del Siglo XIX en la calle Veedor número 15.\\nEsta promoción cuenta con un diseño y unas calidades únicas, en pleno centro histórico, junto a la Plaza del Mentidero, en un edificio de interés preferente.\\nEn concreto os describimos esta maravillosa vivienda en la cual se combinará el lujo y las calidades, dando un resultado fascinante e irrepetible que la hace ÚNICA. Esta vivienda cuenta con una superficie construida de 88,36 m2, dispone de un amplio salón comedor, con cocina incorporada, dos dormitorios y dos baños completos, uno de ellos en suite. La carpintería exterior es de madera con perfil Europeo y acristalamiento termo acústico tipo CLIMALIT. Los materiales son de la marca PORCELANOSA grado alta gama, tanto para baños, cocina y suelos. Se entregara con armarios empotrados en los dormitorios.\\nDestacar que en esta vivienda se incorpora un sistema de climatización por AEROTERMIA, tecnología limpia que extrae un alto porcentaje de la energía ambiental del aire, lo que supone un gran ahorro energético. Finca con ascensor adaptado a personas con movilidad reducida.\\n¡CONSULTENOS SIN COMPROMISO! Por este maravilloso piso o por el resto de las viviendas que nos queden disponibles.',\n",
       "  ['Tipo de inmueble\\nPiso',\n",
       "   'Estado\\nCasi nuevo',\n",
       "   'Antigüedad\\nMenos de 1 año',\n",
       "   'Planta\\n1ª planta',\n",
       "   'Ascensor\\nSí',\n",
       "   'Consumo energía\\nG\\n999 kW h m² / año',\n",
       "   'Emisiones\\nG\\n999 kg CO₂ m² / año'],\n",
       "  '355.000 €'],\n",
       " [['1 hab.\\n1 baño\\n38 m²\\n2ª Planta'],\n",
       "  'Apartamento de un dormitorio en la zona de la Plaza de San Antonio, distribuido actualmente por salón, un dormitorio, cocina independiente amueblada con electrodomésticos y baño con placa de ducha. Se vende totalmente amueblado. A/A. Ascensor. Se encuentra rodeado de todo tipo de comercios, restaurantes, colegios, zonas infantiles, bien comunicado con el transporte publico. * Gastos, Impuestos y Honorarios de la Agencia NO Incluidos en el precio.\\n\\nBúscanos en las redes sociales, como Tecnocasa Cádiz centro en Facebook, Instagram y Twitter. allí también podrás ver pisos baratos y chollos como éste, tanto en el casco antiguo como en puerta tierra, gran variedad de piso, áticos con terraza, luminosos, plantas bajas con patio y muchos más, además de estar al día de todas las novedades.',\n",
       "  ['Tipo de inmueble\\nPiso',\n",
       "   'Orientación\\nEste',\n",
       "   'Estado\\nBien',\n",
       "   'Antigüedad\\n30 a 50 años',\n",
       "   'Planta\\n2ª planta',\n",
       "   'Ascensor\\nSí',\n",
       "   'Consumo energía\\nG\\n999 kW h m² / año',\n",
       "   'Emisiones\\nG\\n999 kg CO₂ m² / año'],\n",
       "  '142.000 €'],\n",
       " [['1 hab.\\n1 baño\\n32 m²\\nBajos'],\n",
       "  'Apartamento bajo interior tipo Loft totalmente reformado.\\nEl apartamento dispone de numero turístico lo que lo hace una buena opción como negocio.\\nLa situación es perfecta lo que la hace muy atractivo, disponibilidad de poder alquilar garaje próximo.\\nDispone en planta baja de salón con cocina abierta y baño, y un altillo que hace de dormitorio.\\nVISITE NUESTRA WEB www.inmobiliariaislamar.es [IW]',\n",
       "  ['Tipo de inmueble\\nApartamento',\n",
       "   'Planta\\nBajos',\n",
       "   'Consumo energía\\nG\\n999 kW h m² / año',\n",
       "   'Emisiones\\nG\\n999 kg CO₂ m² / año'],\n",
       "  '125.000 €'],\n",
       " [['1 hab.\\n1 baño\\n71 m²\\nBajos'],\n",
       "  'Apartamento totalmente reformado desde sus elementos estructurales, situado en el centro de Cádiz cerca de Gran Teatro Falla, barrio del Metiero, lo que la hace muy atractivo como negocio de alquiler vacacional pues dispone de licencia turística. Opcional se puede alquilar plaza de garaje.\\nMas información:\\n856 370 932 / 613 270 866\\nInfo@Inmobiliaria1812.com\\nwww.Inmobiliaria1812.com\\nEn cumplimiento del decreto de la Junta de Andalucía 218/2005 del 11 de octubre, se informa al cliente que los gastos notariales, registrales, ITP y otros gastos inherentes a la compraventa no están incluidos en el precio.',\n",
       "  ['Tipo de inmueble\\nPiso',\n",
       "   'Estado\\nCasi nuevo',\n",
       "   'Antigüedad\\n20 a 30 años',\n",
       "   'Planta\\nBajos',\n",
       "   'Consumo energía\\nG\\n999 kW h m² / año',\n",
       "   'Emisiones\\nG\\n999 kg CO₂ m² / año'],\n",
       "  '130.000 €']]"
      ]
     },
     "execution_count": 25,
     "metadata": {},
     "output_type": "execute_result"
    }
   ],
   "source": [
    "data"
   ]
  },
  {
   "cell_type": "code",
   "execution_count": 43,
   "metadata": {},
   "outputs": [],
   "source": [
    "import requests\n",
    "request = requests.get(\"https://www.fotocasa.es/es/comprar/vivienda/cadiz-capital/aire-acondicionado-ascensor/181784044/d?from=list\")"
   ]
  },
  {
   "cell_type": "code",
   "execution_count": 45,
   "metadata": {},
   "outputs": [
    {
     "data": {
      "text/plain": [
       "'<!DOCTYPE html>\\n<html>\\n    <head>\\n        <noscript>\\n            <title>SENTIMOS LA INTERRUPCIÓN</title>\\n        </noscript>\\n\\n        <meta name=\"viewport\" content=\"width=1000\">\\n        <meta name=\"robots\" content=\"noindex, nofollow\">\\n        <meta http-equiv=\"cache-control\" content=\"no-cache, no-store, must-revalidate\">\\n        <meta http-equiv=\"pragma\" content=\"no-cache\">\\n        <meta http-equiv=\"expires\" content=\"0\">\\n        <meta http-equiv=\"Content-Type\" content=\"text/html; charset=iso-8859-1\" />\\n\\n        <style>\\n            .container { max-width: 800px; margin: auto; font-family: \\'Helvetica Neue\\',Helvetica,Arial,sans-serif; color: #7a838c; }\\n            h1 { color: #2a2d30; font-weight: 500; }\\n            li { margin: 0 0 10px; }\\n            a { color: #428bca; }\\n            a:hover, a:focus { color: #2a6496; }\\n        </style>\\n\\n        <script charset=\"UTF-8\">\\n            function showBlockPage() {\\n                document.title = \"SENTIMOS LA INTERRUPCIÓN\"\\n                document.getElementsByClassName(\"container\")[0].style.display = \"block\";\\n            }\\n            setTimeout(showBlockPage, 10000);\\n            window.geetestLang = \"es\"\\n        </script>\\n        <script>window.addEventListener(\\'load\\', showBlockPage)</script>\\n        <script type=\"text/javascript\" src=\"/relibrary.js\" async defer></script>\\n\\n        \\n    </head>\\n    <body>\\n        \\n\\n        <div class=\"container\" charset=\"UTF-8\">\\n            <script>document.getElementsByClassName(\"container\")[0].style.display = \"none\";</script>\\n            <img src=\"data:image/png;base64,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\" style=\"width: 224px;height:auto;\">\\n            <h1>SENTIMOS LA INTERRUPCIÓN</h1>\\n            <p>Es posible que por alguna de estas razones no puedas seguir con tu actividad en Fotocasa:</p>\\n            <ul>\\n                <noscript><li>You\\'ve disabled JavaScript in your web browser.</li></noscript>\\n                <li>Tener desactivadas las cookies.</li>\\n                <li>Exceder el tiempo de sesión, lo cual se solucionaría cerrando las páginas abiertas de Fotocasa y accediendo de nuevo.</li>\\n                <li>Navegas desde fuera de España.</li>\\n                <li>Un plugin de navegador de terceros, como Ghostery o NoScript, está evitando que el JavaScript se ejecute.</li>\\n            </ul>\\n            <p id=\"extraUnblock\"><small style=\"font-size: 8pt\">IP: 79.116.131.113</small></p>`\\n       </div>\\n    </body>\\n</html>\\n\\n'"
      ]
     },
     "execution_count": 45,
     "metadata": {},
     "output_type": "execute_result"
    }
   ],
   "source": []
  },
  {
   "cell_type": "code",
   "execution_count": 51,
   "metadata": {},
   "outputs": [
    {
     "name": "stdout",
     "output_type": "stream",
     "text": [
      "152.32.132.220:80\n",
      "153.19.91.77:80\n",
      "138.91.159.185:80\n"
     ]
    },
    {
     "ename": "KeyboardInterrupt",
     "evalue": "",
     "output_type": "error",
     "traceback": [
      "\u001b[1;31m---------------------------------------------------------------------------\u001b[0m",
      "\u001b[1;31mKeyboardInterrupt\u001b[0m                         Traceback (most recent call last)",
      "Cell \u001b[1;32mIn[51], line 14\u001b[0m\n\u001b[0;32m     12\u001b[0m driver \u001b[38;5;241m=\u001b[39m uc\u001b[38;5;241m.\u001b[39mChrome(options\u001b[38;5;241m=\u001b[39mchrome_options)\n\u001b[0;32m     13\u001b[0m driver\u001b[38;5;241m.\u001b[39mget(links[i])\n\u001b[1;32m---> 14\u001b[0m \u001b[43mtime\u001b[49m\u001b[38;5;241;43m.\u001b[39;49m\u001b[43msleep\u001b[49m\u001b[43m(\u001b[49m\u001b[38;5;241;43m5\u001b[39;49m\u001b[43m)\u001b[49m\n\u001b[0;32m     15\u001b[0m driver\u001b[38;5;241m.\u001b[39mquit()\n",
      "\u001b[1;31mKeyboardInterrupt\u001b[0m: "
     ]
    }
   ],
   "source": [
    "import time\n",
    "from selenium import webdriver\n",
    "\n",
    "with open('./links/centro_historico.txt', 'r') as file:\n",
    "    links = file.readlines()\n",
    "\n",
    "for i in range(len(links)):\n",
    "    PROXY = get_proxies()[i]\n",
    "    print(PROXY)\n",
    "    chrome_options = webdriver.ChromeOptions()\n",
    "    chrome_options.add_argument('--proxy-server=%s' % PROXY)\n",
    "    driver = uc.Chrome(options=chrome_options)\n",
    "    driver.get(links[i])\n",
    "    time.sleep(5)\n",
    "    driver.quit()\n",
    "\n"
   ]
  },
  {
   "cell_type": "code",
   "execution_count": 47,
   "metadata": {},
   "outputs": [],
   "source": [
    "def get_proxies():\n",
    "    \n",
    "  proxy_list =  \"\"\"\n",
    "152.32.132.220:80\n",
    "153.19.91.77:80\n",
    "138.91.159.185:80\n",
    "190.110.226.162:80\n",
    "114.156.77.107:8080\n",
    "162.223.89.84:80\n",
    "50.173.140.147:80\n",
    "37.156.28.43:3128\n",
    "50.207.199.86:80\n",
    "50.175.212.66:80\n",
    "50.218.224.35:80\n",
    "50.222.245.40:80\n",
    "50.170.152.189:80\n",
    "50.223.246.226:80\n",
    "50.169.118.211:80\n",
    "50.172.227.202:80\n",
    "0.0.0.0:80\n",
    "51.210.127.15:80\n",
    "160.16.65.167:80\n",
    "50.173.140.150:80\n",
    "50.174.145.11:80\n",
    "217.112.80.252:80\n",
    "152.230.215.123:80\n",
    "50.168.210.226:80\n",
    "50.175.212.72:80\n",
    "66.191.31.158:80\n",
    "50.170.90.29:80\n",
    "50.172.39.98:80\n",
    "50.223.38.6:80\n",
    "50.175.212.79:80\n",
    "50.174.214.222:80\n",
    "50.174.145.13:80\n",
    "154.208.10.126:80\n",
    "50.168.210.234:80\n",
    "50.222.245.46:80\n",
    "50.172.75.123:80\n",
    "50.222.245.47:80\n",
    "50.174.7.162:80\n",
    "68.185.57.66:80\n",
    "50.173.140.149:80\n",
    "50.168.163.179:80\n",
    "50.239.72.17:80\n",
    "50.174.7.156:80\n",
    "50.168.163.180:80\n",
    "50.174.7.152:80\n",
    "50.173.140.144:80\n",
    "50.231.110.26:80\n",
    "50.218.57.71:80\n",
    "62.99.138.162:80\n",
    "50.218.57.65:80\n",
    "50.217.226.45:80\n",
    "8.222.239.209:80\n",
    "50.174.7.157:80\n",
    "50.204.219.225:80\n",
    "8.219.97.248:80\n",
    "50.239.72.18:80\n",
    "50.218.57.66:80\n",
    "47.88.3.19:8080\n",
    "93.171.220.229:8888\n",
    "51.15.242.202:8888\n",
    "50.218.57.70:80\n",
    "50.217.226.43:80\n",
    "198.49.68.80:80\n",
    "194.182.163.117:3128\n",
    "50.204.219.228:80\n",
    "50.222.245.45:80\n",
    "64.227.134.208:80\n",
    "50.207.199.84:80\n",
    "50.173.140.148:80\n",
    "50.173.140.145:80\n",
    "50.207.199.85:80\n",
    "216.137.184.253:80\n",
    "162.120.71.11:80\n",
    "50.170.90.28:80\n",
    "50.170.90.25:80\n",
    "35.185.196.38:3128\n",
    "178.128.113.118:23128\n",
    "50.207.199.87:80\n",
    "50.207.199.83:80\n",
    "89.36.114.38:80\n",
    "50.204.219.227:80\n",
    "190.103.177.131:80\n",
    "50.218.57.69:80\n",
    "50.168.72.115:80\n",
    "50.173.140.151:80\n",
    "200.25.254.193:54240\n",
    "80.228.235.6:80\n",
    "50.239.72.16:80\n",
    "50.217.226.41:80\n",
    "50.217.226.44:80\n",
    "50.174.7.155:80\n",
    "50.218.57.64:80\n",
    "50.217.226.46:80\n",
    "127.0.0.7:80\n",
    "50.204.219.224:80\n",
    "50.217.226.42:80\n",
    "162.223.94.166:80\n",
    "195.23.57.78:80\n",
    "50.200.12.81:80\n",
    "50.200.12.87:80\n",
    "152.231.62.1:999\n",
    "138.204.20.160:8080\n",
    "190.61.46.229:999\n",
    "162.248.227.140:80\n",
    "95.217.106.245:2501\n",
    "190.14.249.174:999\n",
    "191.102.107.238:999\n",
    "50.231.172.74:80\n",
    "50.174.7.158:80\n",
    "50.174.145.14:80\n",
    "50.168.210.238:80\n",
    "50.222.245.42:80\n",
    "50.170.90.26:80\n",
    "50.168.163.182:80\n",
    "50.168.7.250:80\n",
    "50.174.216.110:80\n",
    "50.222.245.44:80\n",
    "162.223.94.164:80\n",
    "50.172.75.122:80\n",
    "50.172.75.124:80\n",
    "50.174.145.9:80\n",
    "50.174.145.10:80\n",
    "50.175.212.74:80\n",
    "50.169.37.50:80\n",
    "50.174.145.15:80\n",
    "50.173.140.146:80\n",
    "50.172.75.121:80\n",
    "32.223.6.94:80\n",
    "50.222.245.43:80\n",
    "50.222.245.41:80\n",
    "50.222.245.50:80\n",
    "50.169.23.170:80\n",
    "50.172.75.126:80\n",
    "50.168.210.232:80\n",
    "50.168.210.236:80\n",
    "50.221.230.186:80\n",
    "50.171.68.130:80\n",
    "50.174.145.12:80\n",
    "50.168.89.184:80\n",
    "50.220.168.134:80\n",
    "68.188.59.198:80\n",
    "50.168.163.178:80\n",
    "50.168.163.177:80\n",
    "50.173.140.138:80\n",
    "50.168.72.117:80\n",
    "50.218.57.74:80\n",
    "50.218.57.68:80\n",
    "50.204.219.229:80\n",
    "50.217.226.47:80\n",
    "50.174.145.8:80\n",
    "50.207.199.80:80\n",
    "50.170.90.31:80\n",
    "50.168.72.118:80\n",
    "50.168.72.114:80\n",
    "50.207.199.81:80\n",
    "50.237.207.186:80\n",
    "50.170.90.30:80\n",
    "50.231.104.58:80\n",
    "50.207.199.82:80\n",
    "50.168.72.113:80\n",
    "50.170.90.34:80\n",
    "85.26.146.169:80\n",
    "50.217.226.40:80\n",
    "50.170.90.27:80\n",
    "50.168.163.181:80\n",
    "50.204.219.231:80\n",
    "50.172.23.10:80\n",
    "50.169.135.10:80\n",
    "50.168.163.166:80\n",
    "50.168.72.112:80\n",
    "50.218.57.67:80\n",
    "24.205.201.186:80\n",
    "50.200.12.85:80\n",
    "50.217.29.198:80\n",
    "50.200.12.80:80\n",
    "203.150.128.148:8080\n",
    "200.111.249.195:999\n",
    "173.212.205.225:3186\n",
    "45.70.237.36:8888\n",
    "179.49.159.50:999\n",
    "176.236.124.252:10001\n",
    "62.3.30.70:8080\n",
    "43.249.224.170:83\n",
    "5.252.23.220:3128\n",
    "5.252.23.206:3128\n",
    "93.85.67.63:3128\n",
    "153.139.233.218:8080\n",
    "167.71.5.83:3128\n",
    "194.67.91.153:80\n",
    "51.75.206.209:80\n",
    "20.210.113.32:80\n",
    "115.96.208.124:8080\n",
    "138.68.60.8:3128\n",
    "103.127.1.130:80\n",
    "209.97.150.167:3128\n",
    "20.24.43.214:80\n",
    "20.206.106.192:80\n",
    "47.74.152.29:8888\n",
    "46.47.197.210:3128\n",
    "41.65.236.39:1981\n",
    "219.93.101.60:80\n",
    "150.107.136.110:8082\n",
    "1.224.3.122:3889\n",
    "41.77.188.131:80\n",
    "20.111.54.16:8123\n",
    "149.172.228.208:80\n",
    "41.111.198.108:80\n",
    "50.172.75.120:80\n",
    "213.33.2.28:80\n",
    "50.168.210.239:80\n",
    "211.128.96.206:80\n",
    "188.166.56.246:80\n",
    "50.174.7.153:80\n",
    "190.58.248.86:80\n",
    "50.204.190.234:80\n",
    "95.164.89.123:8888\n",
    "20.205.61.143:8123\n",
    "196.20.125.149:8083\n",
    "103.163.51.254:80\n",
    "80.150.50.226:80\n",
    "50.174.7.159:80\n",
    "79.127.56.147:8080\n",
    "14.241.236.189:2512\n",
    "103.244.145.135:3128\n",
    "8.217.118.156:80\n",
    "179.1.192.12:999\n",
    "177.242.151.154:8080\n",
    "35.209.198.222:80\n",
    "200.174.198.95:8888\n",
    "45.92.108.112:80\n",
    "51.75.122.80:80\n",
    "116.203.49.36:80\n",
    "103.35.189.217:3128\n",
    "209.13.186.20:80\n",
    "12.186.205.121:80\n",
    "50.168.72.122:80\n",
    "159.203.61.169:3128\n",
    "198.168.189.54:80\n",
    "175.183.82.221:80\n",
    "69.70.244.34:82\n",
    "82.146.37.145:80\n",
    "185.165.46.208:3128\n",
    "174.138.94.117:80\n",
    "162.223.91.11:80\n",
    "35.210.106.5:80\n",
    "103.174.102.127:80\n",
    "50.168.210.235:80\n",
    "20.193.135.50:80\n",
    "50.174.7.154:80\n",
    "13.51.69.207:80\n",
    "43.128.107.251:8888\n",
    "114.129.2.82:8081\n",
    "43.156.0.125:8888\n",
    "213.33.126.130:80\n",
    "103.166.141.74:20074\n",
    "34.23.45.223:80\n",
    "172.235.16.236:80\n",
    "154.118.228.212:80\n",
    "50.202.75.26:80\n",
    "47.56.110.204:8989\n",
    "80.13.43.193:80\n",
    "178.218.95.6:8123\n",
    "115.89.203.59:80\n",
    "82.223.102.92:9443\n",
    "78.158.171.72:8080\n",
    "190.6.204.141:999\n",
    "103.87.171.38:32650\n",
    "31.7.70.215:3128\n",
    "89.40.142.116:3128\n",
    "36.67.123.173:8080\n",
    "159.223.174.128:3128\n",
    "202.180.16.1:8080\n",
    "49.156.63.1:8080\n",
    "103.247.23.202:8080\n",
    "103.156.14.18:8080\n",
    "209.126.6.159:80\n",
    "54.193.86.81:3128\n",
    "13.81.217.201:80\n",
    "162.144.233.16:80\n",
    "154.236.179.229:1981\n",
    "72.10.160.91:18031\n",
    "5.161.103.41:88\n",
    "67.43.236.19:10587\n",
    "67.43.236.20:16829\n",
    "67.43.227.227:4479\n",
    "134.213.213.124:80\n",
    "213.143.113.82:80\n",
    "89.145.162.81:3128\n",
    "67.43.227.228:9039\n",
    "41.207.187.178:80\n",
    "84.39.112.144:3128\n",
    "20.27.86.185:80\n",
    "50.168.72.116:80\n",
    "82.119.96.254:80\n",
    "85.8.68.2:80\n",
    "47.243.205.1:3128\n",
    "50.170.90.24:80\n",
    "51.255.20.138:80\n",
    "154.202.118.236:3128\n",
    "154.84.142.247:3128\n",
    "\n",
    "    \"\"\" \n",
    "  # Split the string by newlines to get each proxy individually\n",
    "  proxies = proxy_list.strip().split(\"\\n\")\n",
    "\n",
    "  # Convert the list of proxies into a set\n",
    "  proxy_set = set(proxies)\n",
    "  return proxies"
   ]
  },
  {
   "cell_type": "code",
   "execution_count": null,
   "metadata": {},
   "outputs": [],
   "source": []
  }
 ],
 "metadata": {
  "kernelspec": {
   "display_name": "base",
   "language": "python",
   "name": "python3"
  },
  "language_info": {
   "codemirror_mode": {
    "name": "ipython",
    "version": 3
   },
   "file_extension": ".py",
   "mimetype": "text/x-python",
   "name": "python",
   "nbconvert_exporter": "python",
   "pygments_lexer": "ipython3",
   "version": "3.9.0"
  }
 },
 "nbformat": 4,
 "nbformat_minor": 2
}
