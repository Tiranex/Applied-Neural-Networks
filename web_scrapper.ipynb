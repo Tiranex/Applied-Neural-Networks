{
 "cells": [
  {
   "cell_type": "code",
   "execution_count": 20,
   "metadata": {},
   "outputs": [
    {
     "name": "stdout",
     "output_type": "stream",
     "text": [
      "Collecting webdriver-manager\n",
      "  Downloading webdriver_manager-4.0.1-py2.py3-none-any.whl.metadata (12 kB)\n",
      "Requirement already satisfied: requests in d:\\vs-code\\applied-neural-networks\\.venv\\lib\\site-packages (from webdriver-manager) (2.31.0)\n",
      "Collecting python-dotenv (from webdriver-manager)\n",
      "  Downloading python_dotenv-1.0.1-py3-none-any.whl.metadata (23 kB)\n",
      "Requirement already satisfied: packaging in d:\\vs-code\\applied-neural-networks\\.venv\\lib\\site-packages (from webdriver-manager) (23.2)\n",
      "Requirement already satisfied: charset-normalizer<4,>=2 in d:\\vs-code\\applied-neural-networks\\.venv\\lib\\site-packages (from requests->webdriver-manager) (3.3.2)\n",
      "Requirement already satisfied: idna<4,>=2.5 in d:\\vs-code\\applied-neural-networks\\.venv\\lib\\site-packages (from requests->webdriver-manager) (3.6)\n",
      "Requirement already satisfied: urllib3<3,>=1.21.1 in d:\\vs-code\\applied-neural-networks\\.venv\\lib\\site-packages (from requests->webdriver-manager) (2.2.1)\n",
      "Requirement already satisfied: certifi>=2017.4.17 in d:\\vs-code\\applied-neural-networks\\.venv\\lib\\site-packages (from requests->webdriver-manager) (2024.2.2)\n",
      "Downloading webdriver_manager-4.0.1-py2.py3-none-any.whl (27 kB)\n",
      "Downloading python_dotenv-1.0.1-py3-none-any.whl (19 kB)\n",
      "Installing collected packages: python-dotenv, webdriver-manager\n",
      "Successfully installed python-dotenv-1.0.1 webdriver-manager-4.0.1\n"
     ]
    }
   ],
   "source": [
    "!pip install webdriver-manager"
   ]
  },
  {
   "cell_type": "code",
   "execution_count": 19,
   "metadata": {},
   "outputs": [
    {
     "name": "stdout",
     "output_type": "stream",
     "text": [
      "Requirement already satisfied: numpy in d:\\vs-code\\applied-neural-networks\\.venv\\lib\\site-packages (1.26.4)\n",
      "Requirement already satisfied: matplotlib in d:\\vs-code\\applied-neural-networks\\.venv\\lib\\site-packages (3.8.3)\n",
      "Requirement already satisfied: contourpy>=1.0.1 in d:\\vs-code\\applied-neural-networks\\.venv\\lib\\site-packages (from matplotlib) (1.2.0)\n",
      "Requirement already satisfied: cycler>=0.10 in d:\\vs-code\\applied-neural-networks\\.venv\\lib\\site-packages (from matplotlib) (0.12.1)\n",
      "Requirement already satisfied: fonttools>=4.22.0 in d:\\vs-code\\applied-neural-networks\\.venv\\lib\\site-packages (from matplotlib) (4.49.0)\n",
      "Requirement already satisfied: kiwisolver>=1.3.1 in d:\\vs-code\\applied-neural-networks\\.venv\\lib\\site-packages (from matplotlib) (1.4.5)\n",
      "Requirement already satisfied: numpy<2,>=1.21 in d:\\vs-code\\applied-neural-networks\\.venv\\lib\\site-packages (from matplotlib) (1.26.4)\n",
      "Requirement already satisfied: packaging>=20.0 in d:\\vs-code\\applied-neural-networks\\.venv\\lib\\site-packages (from matplotlib) (23.2)\n",
      "Requirement already satisfied: pillow>=8 in d:\\vs-code\\applied-neural-networks\\.venv\\lib\\site-packages (from matplotlib) (10.2.0)\n",
      "Requirement already satisfied: pyparsing>=2.3.1 in d:\\vs-code\\applied-neural-networks\\.venv\\lib\\site-packages (from matplotlib) (3.1.1)\n",
      "Requirement already satisfied: python-dateutil>=2.7 in d:\\vs-code\\applied-neural-networks\\.venv\\lib\\site-packages (from matplotlib) (2.8.2)\n",
      "Requirement already satisfied: importlib-resources>=3.2.0 in d:\\vs-code\\applied-neural-networks\\.venv\\lib\\site-packages (from matplotlib) (6.1.2)\n",
      "Requirement already satisfied: zipp>=3.1.0 in d:\\vs-code\\applied-neural-networks\\.venv\\lib\\site-packages (from importlib-resources>=3.2.0->matplotlib) (3.17.0)\n",
      "Requirement already satisfied: six>=1.5 in d:\\vs-code\\applied-neural-networks\\.venv\\lib\\site-packages (from python-dateutil>=2.7->matplotlib) (1.16.0)\n",
      "Requirement already satisfied: beautifulsoup4 in d:\\vs-code\\applied-neural-networks\\.venv\\lib\\site-packages (4.12.3)\n",
      "Requirement already satisfied: soupsieve>1.2 in d:\\vs-code\\applied-neural-networks\\.venv\\lib\\site-packages (from beautifulsoup4) (2.5)\n",
      "Collecting Selenium\n",
      "  Downloading selenium-4.18.1-py3-none-any.whl.metadata (6.9 kB)\n",
      "Requirement already satisfied: urllib3<3,>=1.26 in d:\\vs-code\\applied-neural-networks\\.venv\\lib\\site-packages (from urllib3[socks]<3,>=1.26->Selenium) (2.2.1)\n",
      "Collecting trio~=0.17 (from Selenium)\n",
      "  Downloading trio-0.24.0-py3-none-any.whl.metadata (4.9 kB)\n",
      "Collecting trio-websocket~=0.9 (from Selenium)\n",
      "  Downloading trio_websocket-0.11.1-py3-none-any.whl.metadata (4.7 kB)\n",
      "Requirement already satisfied: certifi>=2021.10.8 in d:\\vs-code\\applied-neural-networks\\.venv\\lib\\site-packages (from Selenium) (2024.2.2)\n",
      "Requirement already satisfied: typing_extensions>=4.9.0 in d:\\vs-code\\applied-neural-networks\\.venv\\lib\\site-packages (from Selenium) (4.10.0)\n",
      "Collecting attrs>=20.1.0 (from trio~=0.17->Selenium)\n",
      "  Downloading attrs-23.2.0-py3-none-any.whl.metadata (9.5 kB)\n",
      "Collecting sortedcontainers (from trio~=0.17->Selenium)\n",
      "  Downloading sortedcontainers-2.4.0-py2.py3-none-any.whl.metadata (10 kB)\n",
      "Requirement already satisfied: idna in d:\\vs-code\\applied-neural-networks\\.venv\\lib\\site-packages (from trio~=0.17->Selenium) (3.6)\n",
      "Collecting outcome (from trio~=0.17->Selenium)\n",
      "  Downloading outcome-1.3.0.post0-py2.py3-none-any.whl.metadata (2.6 kB)\n",
      "Collecting sniffio>=1.3.0 (from trio~=0.17->Selenium)\n",
      "  Downloading sniffio-1.3.1-py3-none-any.whl.metadata (3.9 kB)\n",
      "Collecting cffi>=1.14 (from trio~=0.17->Selenium)\n",
      "  Using cached cffi-1.16.0-cp39-cp39-win_amd64.whl.metadata (1.5 kB)\n",
      "Requirement already satisfied: exceptiongroup in d:\\vs-code\\applied-neural-networks\\.venv\\lib\\site-packages (from trio~=0.17->Selenium) (1.2.0)\n",
      "Collecting wsproto>=0.14 (from trio-websocket~=0.9->Selenium)\n",
      "  Downloading wsproto-1.2.0-py3-none-any.whl.metadata (5.6 kB)\n",
      "Collecting pysocks!=1.5.7,<2.0,>=1.5.6 (from urllib3[socks]<3,>=1.26->Selenium)\n",
      "  Downloading PySocks-1.7.1-py3-none-any.whl (16 kB)\n",
      "Collecting pycparser (from cffi>=1.14->trio~=0.17->Selenium)\n",
      "  Downloading pycparser-2.21-py2.py3-none-any.whl.metadata (1.1 kB)\n",
      "Collecting h11<1,>=0.9.0 (from wsproto>=0.14->trio-websocket~=0.9->Selenium)\n",
      "  Downloading h11-0.14.0-py3-none-any.whl.metadata (8.2 kB)\n",
      "Downloading selenium-4.18.1-py3-none-any.whl (10.0 MB)\n",
      "   ---------------------------------------- 0.0/10.0 MB ? eta -:--:--\n",
      "   ---------------------------------------- 0.1/10.0 MB 3.3 MB/s eta 0:00:03\n",
      "   - -------------------------------------- 0.3/10.0 MB 3.3 MB/s eta 0:00:03\n",
      "   - -------------------------------------- 0.4/10.0 MB 2.6 MB/s eta 0:00:04\n",
      "   -- ------------------------------------- 0.5/10.0 MB 3.0 MB/s eta 0:00:04\n",
      "   -- ------------------------------------- 0.7/10.0 MB 3.3 MB/s eta 0:00:03\n",
      "   --- ------------------------------------ 0.9/10.0 MB 3.4 MB/s eta 0:00:03\n",
      "   --- ------------------------------------ 1.0/10.0 MB 3.4 MB/s eta 0:00:03\n",
      "   ---- ----------------------------------- 1.2/10.0 MB 3.4 MB/s eta 0:00:03\n",
      "   ----- ---------------------------------- 1.3/10.0 MB 3.0 MB/s eta 0:00:03\n",
      "   ----- ---------------------------------- 1.4/10.0 MB 3.0 MB/s eta 0:00:03\n",
      "   ------ --------------------------------- 1.6/10.0 MB 3.0 MB/s eta 0:00:03\n",
      "   ------- -------------------------------- 1.8/10.0 MB 3.1 MB/s eta 0:00:03\n",
      "   ------- -------------------------------- 1.9/10.0 MB 3.2 MB/s eta 0:00:03\n",
      "   -------- ------------------------------- 2.1/10.0 MB 3.2 MB/s eta 0:00:03\n",
      "   --------- ------------------------------ 2.3/10.0 MB 3.2 MB/s eta 0:00:03\n",
      "   --------- ------------------------------ 2.3/10.0 MB 3.2 MB/s eta 0:00:03\n",
      "   ---------- ----------------------------- 2.6/10.0 MB 3.2 MB/s eta 0:00:03\n",
      "   ----------- ---------------------------- 2.8/10.0 MB 3.2 MB/s eta 0:00:03\n",
      "   ----------- ---------------------------- 2.9/10.0 MB 3.1 MB/s eta 0:00:03\n",
      "   ------------ --------------------------- 3.1/10.0 MB 3.2 MB/s eta 0:00:03\n",
      "   ------------ --------------------------- 3.2/10.0 MB 3.1 MB/s eta 0:00:03\n",
      "   ------------- -------------------------- 3.3/10.0 MB 3.1 MB/s eta 0:00:03\n",
      "   ------------- -------------------------- 3.4/10.0 MB 3.1 MB/s eta 0:00:03\n",
      "   -------------- ------------------------- 3.6/10.0 MB 3.0 MB/s eta 0:00:03\n",
      "   -------------- ------------------------- 3.6/10.0 MB 3.0 MB/s eta 0:00:03\n",
      "   --------------- ------------------------ 3.8/10.0 MB 3.0 MB/s eta 0:00:03\n",
      "   --------------- ------------------------ 3.9/10.0 MB 3.0 MB/s eta 0:00:03\n",
      "   --------------- ------------------------ 3.9/10.0 MB 2.9 MB/s eta 0:00:03\n",
      "   --------------- ------------------------ 4.0/10.0 MB 2.8 MB/s eta 0:00:03\n",
      "   ---------------- ----------------------- 4.0/10.0 MB 2.7 MB/s eta 0:00:03\n",
      "   ---------------- ----------------------- 4.1/10.0 MB 2.7 MB/s eta 0:00:03\n",
      "   ---------------- ----------------------- 4.2/10.0 MB 2.7 MB/s eta 0:00:03\n",
      "   ----------------- ---------------------- 4.4/10.0 MB 2.7 MB/s eta 0:00:03\n",
      "   ------------------ --------------------- 4.5/10.0 MB 2.7 MB/s eta 0:00:03\n",
      "   ------------------ --------------------- 4.6/10.0 MB 2.7 MB/s eta 0:00:02\n",
      "   ------------------- -------------------- 4.8/10.0 MB 2.7 MB/s eta 0:00:02\n",
      "   ------------------- -------------------- 5.0/10.0 MB 2.8 MB/s eta 0:00:02\n",
      "   -------------------- ------------------- 5.1/10.0 MB 2.8 MB/s eta 0:00:02\n",
      "   -------------------- ------------------- 5.1/10.0 MB 2.8 MB/s eta 0:00:02\n",
      "   -------------------- ------------------- 5.1/10.0 MB 2.8 MB/s eta 0:00:02\n",
      "   -------------------- ------------------- 5.2/10.0 MB 2.6 MB/s eta 0:00:02\n",
      "   --------------------- ------------------ 5.4/10.0 MB 2.6 MB/s eta 0:00:02\n",
      "   --------------------- ------------------ 5.5/10.0 MB 2.6 MB/s eta 0:00:02\n",
      "   ---------------------- ----------------- 5.6/10.0 MB 2.6 MB/s eta 0:00:02\n",
      "   ----------------------- ---------------- 5.8/10.0 MB 2.6 MB/s eta 0:00:02\n",
      "   ----------------------- ---------------- 5.9/10.0 MB 2.6 MB/s eta 0:00:02\n",
      "   ------------------------ --------------- 6.0/10.0 MB 2.6 MB/s eta 0:00:02\n",
      "   ------------------------ --------------- 6.2/10.0 MB 2.6 MB/s eta 0:00:02\n",
      "   ------------------------- -------------- 6.3/10.0 MB 2.6 MB/s eta 0:00:02\n",
      "   ------------------------- -------------- 6.4/10.0 MB 2.6 MB/s eta 0:00:02\n",
      "   -------------------------- ------------- 6.6/10.0 MB 2.7 MB/s eta 0:00:02\n",
      "   --------------------------- ------------ 6.8/10.0 MB 2.7 MB/s eta 0:00:02\n",
      "   --------------------------- ------------ 7.0/10.0 MB 2.7 MB/s eta 0:00:02\n",
      "   ---------------------------- ----------- 7.1/10.0 MB 2.7 MB/s eta 0:00:02\n",
      "   ----------------------------- ---------- 7.3/10.0 MB 2.7 MB/s eta 0:00:02\n",
      "   ----------------------------- ---------- 7.4/10.0 MB 2.7 MB/s eta 0:00:01\n",
      "   ----------------------------- ---------- 7.4/10.0 MB 2.7 MB/s eta 0:00:01\n",
      "   ------------------------------ --------- 7.5/10.0 MB 2.7 MB/s eta 0:00:01\n",
      "   ------------------------------ --------- 7.6/10.0 MB 2.6 MB/s eta 0:00:01\n",
      "   ------------------------------ --------- 7.6/10.0 MB 2.6 MB/s eta 0:00:01\n",
      "   ------------------------------ --------- 7.7/10.0 MB 2.6 MB/s eta 0:00:01\n",
      "   ------------------------------ --------- 7.7/10.0 MB 2.5 MB/s eta 0:00:01\n",
      "   ------------------------------- -------- 7.8/10.0 MB 2.5 MB/s eta 0:00:01\n",
      "   ------------------------------- -------- 7.8/10.0 MB 2.5 MB/s eta 0:00:01\n",
      "   ------------------------------- -------- 7.9/10.0 MB 2.5 MB/s eta 0:00:01\n",
      "   ------------------------------- -------- 7.9/10.0 MB 2.4 MB/s eta 0:00:01\n",
      "   ------------------------------- -------- 8.0/10.0 MB 2.4 MB/s eta 0:00:01\n",
      "   -------------------------------- ------- 8.0/10.0 MB 2.4 MB/s eta 0:00:01\n",
      "   -------------------------------- ------- 8.1/10.0 MB 2.4 MB/s eta 0:00:01\n",
      "   -------------------------------- ------- 8.1/10.0 MB 2.4 MB/s eta 0:00:01\n",
      "   -------------------------------- ------- 8.1/10.0 MB 2.3 MB/s eta 0:00:01\n",
      "   -------------------------------- ------- 8.1/10.0 MB 2.3 MB/s eta 0:00:01\n",
      "   -------------------------------- ------- 8.2/10.0 MB 2.3 MB/s eta 0:00:01\n",
      "   -------------------------------- ------- 8.3/10.0 MB 2.3 MB/s eta 0:00:01\n",
      "   --------------------------------- ------ 8.3/10.0 MB 2.3 MB/s eta 0:00:01\n",
      "   --------------------------------- ------ 8.4/10.0 MB 2.3 MB/s eta 0:00:01\n",
      "   ---------------------------------- ----- 8.5/10.0 MB 2.3 MB/s eta 0:00:01\n",
      "   ---------------------------------- ----- 8.7/10.0 MB 2.3 MB/s eta 0:00:01\n",
      "   ----------------------------------- ---- 8.8/10.0 MB 2.3 MB/s eta 0:00:01\n",
      "   ----------------------------------- ---- 8.9/10.0 MB 2.3 MB/s eta 0:00:01\n",
      "   ------------------------------------ --- 9.1/10.0 MB 2.3 MB/s eta 0:00:01\n",
      "   ------------------------------------- -- 9.3/10.0 MB 2.3 MB/s eta 0:00:01\n",
      "   ------------------------------------- -- 9.5/10.0 MB 2.3 MB/s eta 0:00:01\n",
      "   -------------------------------------- - 9.7/10.0 MB 2.3 MB/s eta 0:00:01\n",
      "   ---------------------------------------  9.9/10.0 MB 2.4 MB/s eta 0:00:01\n",
      "   ---------------------------------------  10.0/10.0 MB 2.4 MB/s eta 0:00:01\n",
      "   ---------------------------------------- 10.0/10.0 MB 2.4 MB/s eta 0:00:00\n",
      "Downloading trio-0.24.0-py3-none-any.whl (460 kB)\n",
      "   ---------------------------------------- 0.0/460.2 kB ? eta -:--:--\n",
      "   ------------ --------------------------- 143.4/460.2 kB 4.2 MB/s eta 0:00:01\n",
      "   ------------------------------- -------- 358.4/460.2 kB 3.7 MB/s eta 0:00:01\n",
      "   ---------------------------------------- 460.2/460.2 kB 3.2 MB/s eta 0:00:00\n",
      "Downloading trio_websocket-0.11.1-py3-none-any.whl (17 kB)\n",
      "Downloading attrs-23.2.0-py3-none-any.whl (60 kB)\n",
      "   ---------------------------------------- 0.0/60.8 kB ? eta -:--:--\n",
      "   ---------------------------------------- 60.8/60.8 kB 1.6 MB/s eta 0:00:00\n",
      "Using cached cffi-1.16.0-cp39-cp39-win_amd64.whl (181 kB)\n",
      "Downloading sniffio-1.3.1-py3-none-any.whl (10 kB)\n",
      "Downloading wsproto-1.2.0-py3-none-any.whl (24 kB)\n",
      "Downloading outcome-1.3.0.post0-py2.py3-none-any.whl (10 kB)\n",
      "Downloading sortedcontainers-2.4.0-py2.py3-none-any.whl (29 kB)\n",
      "Downloading h11-0.14.0-py3-none-any.whl (58 kB)\n",
      "   ---------------------------------------- 0.0/58.3 kB ? eta -:--:--\n",
      "   ---------------------------------------- 58.3/58.3 kB 3.2 MB/s eta 0:00:00\n",
      "Using cached pycparser-2.21-py2.py3-none-any.whl (118 kB)\n",
      "Installing collected packages: sortedcontainers, sniffio, pysocks, pycparser, h11, attrs, wsproto, outcome, cffi, trio, trio-websocket, Selenium\n",
      "Successfully installed Selenium-4.18.1 attrs-23.2.0 cffi-1.16.0 h11-0.14.0 outcome-1.3.0.post0 pycparser-2.21 pysocks-1.7.1 sniffio-1.3.1 sortedcontainers-2.4.0 trio-0.24.0 trio-websocket-0.11.1 wsproto-1.2.0\n"
     ]
    }
   ],
   "source": [
    "!pip install numpy\n",
    "!pip install matplotlib\n",
    "!pip install beautifulsoup4\n",
    "!pip install Selenium"
   ]
  },
  {
   "cell_type": "code",
   "execution_count": 2,
   "metadata": {},
   "outputs": [],
   "source": [
    "import requests\n",
    "import numpy as np\n",
    "import matplotlib.pyplot as plt\n",
    "from bs4 import BeautifulSoup\n",
    "from selenium import webdriver\n",
    "from selenium.webdriver.common.keys import Keys\n",
    "from selenium.webdriver.common.by import By"
   ]
  },
  {
   "cell_type": "code",
   "execution_count": 109,
   "metadata": {},
   "outputs": [],
   "source": [
    "# Create Chromeoptions instance \n",
    "options = webdriver.ChromeOptions() \n",
    " \n",
    "# Adding argument to disable the AutomationControlled flag \n",
    "options.add_argument(\"--disable-blink-features=AutomationControlled\") \n",
    " \n",
    "# Exclude the collection of enable-automation switches \n",
    "options.add_experimental_option(\"excludeSwitches\", [\"enable-automation\"]) \n",
    " \n",
    "# Turn-off userAutomationExtension \n",
    "options.add_experimental_option(\"useAutomationExtension\", False) \n",
    " \n",
    "# Setting the driver path and requesting a page \n",
    "driver = webdriver.Chrome(options=options) \n",
    "\n",
    "driver = webdriver.Chrome()"
   ]
  },
  {
   "cell_type": "code",
   "execution_count": 75,
   "metadata": {},
   "outputs": [],
   "source": [
    "all_links = []"
   ]
  },
  {
   "cell_type": "markdown",
   "metadata": {},
   "source": [
    "Enlaces:\n",
    "Teatro falla: https://www.fotocasa.es/es/comprar/viviendas/cadiz-capital/alameda-mentidero-teatro-falla/1\n",
    "Bahia blanca: https://www.fotocasa.es/es/comprar/viviendas/cadiz-capital/asdrubal-bahia-blanca/l\n",
    "Corte-Inglés: https://www.fotocasa.es/es/comprar/viviendas/cadiz-capital/astilleros-la-paz-loreto-el-corte-ingles/l\n",
    "Centro-Histórico: https://www.fotocasa.es/es/comprar/viviendas/cadiz-capital/centro-historico/l\n"
   ]
  },
  {
   "cell_type": "code",
   "execution_count": 111,
   "metadata": {},
   "outputs": [],
   "source": [
    "driver.get(\"https://www.fotocasa.es/es/comprar/viviendas/cadiz-capital/asdrubal-bahia-blanca/l\")"
   ]
  },
  {
   "cell_type": "code",
   "execution_count": 131,
   "metadata": {},
   "outputs": [],
   "source": [
    "all_links =[]"
   ]
  },
  {
   "cell_type": "code",
   "execution_count": 133,
   "metadata": {},
   "outputs": [],
   "source": [
    "elements = driver.find_elements(By.CSS_SELECTOR,'[href]')\n",
    "links = [elements.get_attribute('href') for elements in elements]\n",
    "all_links.extend(links)"
   ]
  },
  {
   "cell_type": "code",
   "execution_count": 128,
   "metadata": {},
   "outputs": [],
   "source": [
    "import re\n",
    "\n",
    "filtered_links = [link for link in all_links if re.match(r\"https:\\/\\/www.fotocasa.es\\/es\\/comprar\\/vivienda\\/cadiz-capital\\/.*\\/d\\?from=list\", link)]\n",
    "filtered_links = list(set(filtered_links))\n",
    "\n"
   ]
  },
  {
   "cell_type": "code",
   "execution_count": 129,
   "metadata": {},
   "outputs": [
    {
     "data": {
      "text/plain": [
       "139"
      ]
     },
     "execution_count": 129,
     "metadata": {},
     "output_type": "execute_result"
    }
   ],
   "source": [
    "len(filtered_links)"
   ]
  },
  {
   "cell_type": "code",
   "execution_count": 130,
   "metadata": {},
   "outputs": [],
   "source": [
    "with open('./links/corte_ingles.txt', 'w') as file:\n",
    "    for link in filtered_links:\n",
    "        file.write(link + '\\n')"
   ]
  },
  {
   "cell_type": "code",
   "execution_count": null,
   "metadata": {},
   "outputs": [],
   "source": [
    "# Get all links from the page\n",
    "for i in range(6):\n",
    "    driver.get(\"https://www.fotocasa.es/es/comprar/viviendas/cadiz-capital/alameda-mentidero-teatro-falla/\")"
   ]
  },
  {
   "cell_type": "code",
   "execution_count": 27,
   "metadata": {},
   "outputs": [],
   "source": [
    "driver.get(\"https://www.fotocasa.es/es/comprar/vivienda/cadiz-capital/aire-acondicionado-trastero-ascensor/164656708/d?from=list\")"
   ]
  },
  {
   "cell_type": "code",
   "execution_count": 44,
   "metadata": {},
   "outputs": [],
   "source": [
    "# Expand the description\n",
    "element = driver.find_element(By.CLASS_NAME, \"expander\")\n",
    "element.click()\n"
   ]
  },
  {
   "cell_type": "code",
   "execution_count": 50,
   "metadata": {},
   "outputs": [],
   "source": [
    "# Extract the description\n",
    "description = driver.find_element(By.CLASS_NAME, \"comment\")\n",
    "description = description.text"
   ]
  },
  {
   "cell_type": "code",
   "execution_count": 52,
   "metadata": {},
   "outputs": [
    {
     "data": {
      "text/plain": [
       "'NO COBRAMOS COMISIÓN AL COMPRADOR\\n\\nGILMAR presenta esta excepcional vivienda, ubicada a pocos pasos de la majestuosa Catedral de Cádiz, que ofrece una experiencia residencial única. Con tres acogedores dormitorios, un baño completo y un aseo elegante, esta propiedad ha sido meticulosamente reformada entre los años 2017 y 2019, brindando un ambiente moderno y funcional.\\n\\nCon una superficie construida de 131 m2 construidos, esta propiedad cuenta con gran capacidad de almacenaje gracias a los grandes armarios ubicados en cada habitación y a la habitación utilizada como trastero, que gracias a sus grandes altillos, es el lugar ideal para almacenar la ropa de cambio de temporada.\\n\\nDestacan los techos altos dando luz y amplitud a la estancias y las contraventanas en madera de pino melis, restauradas con esmero en 2022, añadiendo un toque clásico y encanto a la residencia.\\n\\nSituado en una ubicación privilegiada, este piso ofrece la combinación perfecta de comodidad y encanto histórico. Con la Catedral de Cádiz como vecina, los residentes pueden disfrutar de la rica herencia cultural y arquitectónica de la ciudad, así como de la proximidad a tiendas, restaurantes y servicios locales.\\n\\nGILMAR Horario de lunes a viernes de 9.30 H a 20.30 H y Sábado de 10.00 H a 14.00 H.\\nEn GILMAR trabajamos para ofrecer a nuestros clientes los mejores inmuebles, con equipos especializados en cada zona para proporcionarles la mejor opción a su necesidad, con todas las excelencias y cuidando al máximo los detalles.\\nEn más de 35 años de andadura, Gilmar ha logrado alcanzar un espacio de privilegio dentro del Sector Inmobiliario de alto standing. Cubrimos todas las necesidades inmobiliarias: viviendas, oficinas, locales comerciales, solares, fincas rústicas, terrenos para construir.. . y cualquier tipo de operaciones: compraventa y alquiler.\\nNuestros clientes cuentan con el asesoramiento necesario desde el inicio, para garantizar su seguridad, eficacia jurídica y la mejor rentabilidad financiero-fiscal.\\nEstupenda oportunidad, para conseguir un piso a la medida de sus sueños.'"
      ]
     },
     "execution_count": 52,
     "metadata": {},
     "output_type": "execute_result"
    }
   ],
   "source": [
    "description"
   ]
  },
  {
   "cell_type": "code",
   "execution_count": 51,
   "metadata": {},
   "outputs": [
    {
     "data": {
      "text/plain": [
       "'131 m²\\n3 hab.\\nPlanta 1ª exterior sin ascensor'"
      ]
     },
     "execution_count": 51,
     "metadata": {},
     "output_type": "execute_result"
    }
   ],
   "source": [
    "# Extract info-features\n",
    "info_features = driver.find_element(By.CLASS_NAME, \"info-features\")\n",
    "info_features.text"
   ]
  },
  {
   "cell_type": "code",
   "execution_count": 12,
   "metadata": {},
   "outputs": [],
   "source": [
    "soup = BeautifulSoup(r.text, 'html.parser')"
   ]
  },
  {
   "cell_type": "code",
   "execution_count": 17,
   "metadata": {},
   "outputs": [
    {
     "data": {
      "text/plain": [
       "<html><head><title>idealista.com</title><style>#cmsg{animation: A 1.5s;}@keyframes A{0%{opacity:0;}99%{opacity:0;}100%{opacity:1;}}</style></head><body style=\"margin:0\"><p id=\"cmsg\">Please enable JS and disable any ad blocker</p><script data-cfasync=\"false\">var dd={'rt':'c','cid':'AHrlqAAAAAMAIm1Zye9S4sYAltZLjg==','hsh':'AC81AADC3279CA4C7B968B717FBB30','t':'bv','s':17156,'e':'9109956d2768e9f6239eb6d9e0ada64a71705e859e3ccbcd23128b814a999550','host':'geo.captcha-delivery.com'}</script><script data-cfasync=\"false\" src=\"https://ct.captcha-delivery.com/c.js\"></script></body></html>"
      ]
     },
     "execution_count": 17,
     "metadata": {},
     "output_type": "execute_result"
    }
   ],
   "source": [
    "soup"
   ]
  },
  {
   "cell_type": "code",
   "execution_count": 16,
   "metadata": {},
   "outputs": [
    {
     "data": {
      "text/plain": [
       "[]"
      ]
     },
     "execution_count": 16,
     "metadata": {},
     "output_type": "execute_result"
    }
   ],
   "source": [
    "soup.find_all(class_='comment')"
   ]
  },
  {
   "cell_type": "code",
   "execution_count": null,
   "metadata": {},
   "outputs": [],
   "source": []
  }
 ],
 "metadata": {
  "kernelspec": {
   "display_name": "base",
   "language": "python",
   "name": "python3"
  },
  "language_info": {
   "codemirror_mode": {
    "name": "ipython",
    "version": 3
   },
   "file_extension": ".py",
   "mimetype": "text/x-python",
   "name": "python",
   "nbconvert_exporter": "python",
   "pygments_lexer": "ipython3",
   "version": "3.9.0"
  }
 },
 "nbformat": 4,
 "nbformat_minor": 2
}
