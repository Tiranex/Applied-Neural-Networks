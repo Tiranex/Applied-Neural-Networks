{
  "nbformat": 4,
  "nbformat_minor": 0,
  "metadata": {
    "colab": {
      "provenance": [],
      "toc_visible": true
    },
    "kernelspec": {
      "name": "python3",
      "display_name": "Python 3"
    },
    "language_info": {
      "name": "python"
    }
  },
  "cells": [
    {
      "cell_type": "markdown",
      "source": [
        "# Methods for differenciating\n",
        "Neural networks (NN) are simple mathematical functions stacked on each other, to train a NN we need to process many partial derivatives of each weight with respect to loss to calculate adjustment, so the network improve with each iteration.\n",
        "\n",
        "We are going to review 2 methods and explain why they are not suitable for this task."
      ],
      "metadata": {
        "id": "WN2WkBbn6PtO"
      }
    },
    {
      "cell_type": "markdown",
      "source": [
        "## Finite Difference\n",
        "We can use the following expression for the derivative with h sufficiently small:\n",
        "\n",
        "$f'(x_0)=\\frac{f(x_0+h)-f(x_0)}{h}$\n",
        "\n",
        "This method is really easy to implement but the precision depends on how small we want to take h and how complex f is. If we have a simple function this method is functional, but on a NN we have many inputs for few outputs.\n",
        "\n",
        "This means that we have to evaluate many times the function and on each step there is an acumulated error, so this method is not feasible."
      ],
      "metadata": {
        "id": "MQimJYLN7FZQ"
      }
    },
    {
      "cell_type": "markdown",
      "source": [
        "### Finite Difference Implementation\n",
        "$z=f(x,y)=(\\frac{x}{y}+5)^2+x$\n",
        "\n",
        "We want: $\\frac{\\partial z}{\\partial x}(6,2)$"
      ],
      "metadata": {
        "id": "a96VHGoHjWHz"
      }
    },
    {
      "cell_type": "code",
      "source": [
        "def f(x,y):\n",
        "    return (x/y+5)**2 + x\n",
        "\n",
        "# Parameters\n",
        "h=0.1; x_0=6; y_0=2\n",
        "\n",
        "# Evaluation\n",
        "partialx=(f(x_0+h,y_0)-f(x_0,y_0))/h\n",
        "partialy=(f(x_0,y_0+h)-f(x_0,y_0))/h\n",
        "\n",
        "print(\"h=0.1 ∂z/∂x =\", partialx)\n",
        "print(\"h=0.1 ∂z/∂y =\", partialy)\n",
        "\n",
        "print(\"---------\")\n",
        "# Parameters\n",
        "h=0.0001; x_0=6; y_0=2\n",
        "\n",
        "# Evaluation\n",
        "partialx=(f(x_0+h,y_0)-f(x_0,y_0))/h\n",
        "partialy=(f(x_0,y_0+h)-f(x_0,y_0))/h\n",
        "\n",
        "print(\"h=0.0001 ∂z/∂x =\", partialx)\n",
        "print(\"h=0.0001 ∂z/∂y =\", partialy)\n"
      ],
      "metadata": {
        "colab": {
          "base_uri": "https://localhost:8080/"
        },
        "id": "89StkGZCjcp2",
        "outputId": "13e01e58-4533-4686-bf16-6cc38544b1a5"
      },
      "execution_count": null,
      "outputs": [
        {
          "output_type": "stream",
          "name": "stdout",
          "text": [
            "h=0.1 ∂z/∂x = 9.025000000000034\n",
            "h=0.1 ∂z/∂y = -22.65306122448976\n",
            "---------\n",
            "h=0.0001 ∂z/∂x = 9.000025000034384\n",
            "h=0.0001 ∂z/∂y = -23.99857508265768\n"
          ]
        }
      ]
    },
    {
      "cell_type": "markdown",
      "source": [
        "## Symbolic Computation\n",
        "This involves using a package to work on symbolic, the inconvinience is that we can end up with a huge expression and it might take a long time to calculate, and every time we modifty the function we need to recalculate the expression."
      ],
      "metadata": {
        "id": "97qMd0WV7Ht1"
      }
    },
    {
      "cell_type": "markdown",
      "source": [
        "### Symbolic Implementation\n",
        "$z=f(x,y)=(\\frac{x}{y}+5)^2+x$\n",
        "\n",
        "We want: $\\frac{\\partial z}{\\partial x}(6,2)$"
      ],
      "metadata": {
        "id": "zOKdnCqdl-2Q"
      }
    },
    {
      "cell_type": "code",
      "source": [
        "import sympy as sp\n",
        "\n",
        "x, y, z = sp.symbols('x y z')\n",
        "sp.init_printing(use_unicode=True)\n",
        "\n",
        "exppr=(x/y+5)**2+x\n",
        "\n",
        "# We get the partials\n",
        "partialx=exppr.diff(x)\n",
        "partialy=exppr.diff(y)\n",
        "print(\"∂z/∂x =\", partialx)\n",
        "print(\"∂z/∂x(6,2) =\", partialx.subs({x:6, y:2}))\n",
        "\n",
        "print(\"-----\")\n",
        "\n",
        "print(\"∂z/∂y =\", partialy)\n",
        "print(\"∂z/∂y(6,2) =\", partialy.subs({x:6, y:2}))"
      ],
      "metadata": {
        "colab": {
          "base_uri": "https://localhost:8080/"
        },
        "id": "OwdjJniymEEO",
        "outputId": "92be10af-feb8-42a2-9186-00e304aab2b5"
      },
      "execution_count": null,
      "outputs": [
        {
          "output_type": "stream",
          "name": "stdout",
          "text": [
            "∂z/∂x = 1 + 2*(x/y + 5)/y\n",
            "∂z/∂x(6,2) = 9\n",
            "-----\n",
            "∂z/∂y = -2*x*(x/y + 5)/y**2\n",
            "∂z/∂y(6,2) = -24\n"
          ]
        }
      ]
    },
    {
      "cell_type": "markdown",
      "source": [
        "## Forward Automatic Differentation\n",
        "Consider $f(x,y)=x^2+(x+y)$, first we need to build a computation graph which will ease our task when implementing the automatic differentation. We can think of a computational graph as dividing the function in smaller pieces, in this case:\n",
        "\n",
        "$z=w_4(w_3(w_0),w_2(w_0,w_1))$\n",
        "\n",
        "$w_0=x$\n",
        "\n",
        "$w_1=y$\n",
        "\n",
        "$w_2=w_0+w_1$\n",
        "\n",
        "$w_3=w_0^2$\n",
        "\n",
        "$w_4=w_3+w_2$\n",
        "\n",
        "![Graph_automatic_diff.png](data:image/png;base64,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)\n"
      ],
      "metadata": {
        "id": "lxEi9XS_7LAC"
      }
    },
    {
      "cell_type": "markdown",
      "source": [
        "Consider $f(x,y)=x^2+(x+y)$, first we need to build a computation graph which will ease our task when implementing the automatic differentation. We can think of a computational graph as dividing the function in smaller pieces, in this case:\n",
        "\n",
        "$z=w_4(w_3(w_0),w_2(w_0,w_1))$\n",
        "\n",
        "$w_0=x$\n",
        "\n",
        "$w_1=y$\n",
        "\n",
        "$w_2=w_0+w_1$\n",
        "\n",
        "$w_3=w_0^2$\n",
        "\n",
        "$w_4=w_3+w_2$"
      ],
      "metadata": {
        "id": "edfyMBsG5DUv"
      }
    },
    {
      "cell_type": "markdown",
      "source": [
        "Recall the chain rule: f(y)=f(y(x)), then:\n",
        "\n",
        "$\\frac{\\partial f}{\\partial y}=\\frac{\\partial f}{\\partial x}\\frac{\\partial y}{\\partial x}$ or $f'(y)=f'(y(x))\\cdot y'(x)$\n",
        "\n",
        "If we apply this case to our function:\n",
        "\n",
        "$\\frac{\\partial z}{\\partial x}=\\frac{\\partial w_4}{\\partial w_0}=\\frac{\\partial w_4}{\\partial w_3}\\frac{\\partial w_3}{\\partial w_0}+\\frac{\\partial w_4}{\\partial w_2}\\frac{\\partial w_2}{\\partial w_0}$\n",
        "\n",
        "$\\frac{\\partial z}{\\partial y}=\\frac{\\partial w_4}{\\partial w_1}=\\frac{\\partial w_4}{\\partial w_3}\\frac{\\partial w_3}{\\partial w_1}+\\frac{\\partial w_4}{\\partial w_2}\\frac{\\partial w_2}{\\partial w_1}$\n",
        "\n",
        "So the expression result in:\n",
        "\n",
        "$\\frac{\\partial z}{\\partial x}=1\\cdot 2w_0+1\\cdot1=2x+1$\n",
        "\n",
        "$\\frac{\\partial z}{\\partial y}=1 \\cdot 0 + 1 \\cdot 1=1$\n",
        "\n",
        "We can see that applying the chain rule, we simplified the problem of calculating the derivative of the whole function $(z)$ to a set of simpler functions $(w_0, w_1,w_2,w_3)$, so the underlying reason why this method works is the chain rule."
      ],
      "metadata": {
        "id": "mlSZqw5Sc_Fo"
      }
    },
    {
      "cell_type": "markdown",
      "source": [
        "If we take a more complex function like $z=f(x,y)=(\\frac{x}{y}+5)^2+x$, we do the same dividing the function into smaller pieces, so we get the following table, which the first column are the functions, and the second are the derivatives."
      ],
      "metadata": {
        "id": "sVf8qsrB9QBd"
      }
    },
    {
      "cell_type": "markdown",
      "source": [
        "\\begin{array}{|c|c|} \\hline\n",
        "w_0=x                       & \\dot w_0=1                                                     \\\\ \\hline\n",
        "w_1=y                       & \\dot w_1=0                                                     \\\\ \\hline\n",
        "w_2=w_0/w_1+5               & \\dot w_2 = \\frac{\\dot w_0\\cdot w_1 - \\dot w_1\\cdot w_0} {w_1^2} \\\\ \\hline\n",
        "w_3=w_2^2 & \\dot w_3 = 2w_2 \\dot w_2                      \\\\ \\hline\n",
        "w_4=w_3+w_0               & \\dot w_4= \\dot w_3+ \\dot w_0  \\\\ \\hline\n",
        "\\end{array}\n",
        "\n",
        "\n"
      ],
      "metadata": {
        "id": "4fy059NGqxtD"
      }
    },
    {
      "cell_type": "markdown",
      "source": [
        "To get this table we just needed to apply basic derivative rules, which are fast to compute, now if we wanted to calculate: $\\frac{\\partial z}{\\partial x}(6,2)$\n",
        "\n",
        "We use the table and substitute x=3, y=4 we substitute on each cell and the result is:\n"
      ],
      "metadata": {
        "id": "SWyDDCgmsf2X"
      }
    },
    {
      "cell_type": "markdown",
      "source": [
        "\\begin{array}{|c|c|} \\hline\n",
        "w_0=6                       & \\dot w_0=1                                                     \\\\ \\hline\n",
        "w_1=2                       & \\dot w_1=0                                                     \\\\ \\hline\n",
        "w_2=6/2+5=8               & \\dot w_2 = \\frac{1\\cdot 2} {4}=1/2  \\\\ \\hline\n",
        "w_3=8^2 & \\dot w_3 =2\\cdot 8 \\cdot 1/2=8                     \\\\ \\hline\n",
        "w_4=64+6=70               & \\dot w_4= 8+1=9  \\\\ \\hline\n",
        "\\end{array}"
      ],
      "metadata": {
        "id": "7ZvSbQRttOWw"
      }
    },
    {
      "cell_type": "markdown",
      "source": [
        "So the result is $z(6,2)=70$ and $\\frac{\\partial z}{\\partial x}=9$, if we wanted the partial with respect to y, we just need to change the seed values, this is $(w_0,w_1)=(0,1)$."
      ],
      "metadata": {
        "id": "gk-27Jp6FGdx"
      }
    },
    {
      "cell_type": "markdown",
      "source": [
        "### About the seed values\n",
        "Given the Differntial of f:\n",
        "$Df(x)=\n",
        "\\begin{pmatrix} \\displaystyle\\frac{\\partial f_1}{\\partial x_1}(x)\n",
        "& \\displaystyle\\frac{\\partial f_1}{\\partial x_2}(x)\n",
        "& \\dots\n",
        "& \\displaystyle\\frac{\\partial f_1}{\\partial x_n}(x) \\\\\n",
        "\\displaystyle\\frac{\\partial f_2}{\\partial x_1}(x)\n",
        "& \\displaystyle\\frac{\\partial f_2}{\\partial x_2}(x)\n",
        "& \\dots & \\displaystyle\\frac{\\partial f_2}{\\partial x_n}(x) \\\\\n",
        "\\vdots & \\vdots & \\ddots & \\vdots \\\\\n",
        "\\displaystyle\\frac{\\partial f_m}{\\partial x_1}(x)\n",
        "& \\displaystyle\\frac{\\partial f_m}{\\partial x_2}(x)\n",
        "& \\dots & \\displaystyle\\frac{\\partial f_m}{\\partial x_n}(x) \\\\\n",
        "\\end{pmatrix}\n",
        "=\n",
        "\\begin{pmatrix}\n",
        "    \\nabla f_1(x) \\\\\n",
        "    \\vdots \\\\\n",
        "    \\nabla f_m(x)\n",
        "\\end{pmatrix}$\n",
        "\n",
        "When we set a seed value $(\\dot w_0,...,\\dot w_n)$ and the values where we want to evaluate the differential $(w_0,...,w_n)$ we get $Df(\\dot w_0,..., \\dot w_n)(w_0,...,w_n)$. The method of forward automatic differentations allows us to evluate the Differential of f at any point, but we don't get any symbolic expression."
      ],
      "metadata": {
        "id": "92ZvLaoEF4KJ"
      }
    },
    {
      "cell_type": "markdown",
      "source": [
        "### Forward Automatic Diferenciation on Python\n",
        "The following code is taken from: https://en.wikipedia.org/wiki/Automatic_differentiation\n"
      ],
      "metadata": {
        "id": "_hOFpl5gDzso"
      }
    },
    {
      "cell_type": "code",
      "execution_count": null,
      "metadata": {
        "id": "1IASMQ2W5Fpd"
      },
      "outputs": [],
      "source": [
        "import numpy as np\n",
        "\n",
        "# Print the value and the partial\n",
        "class ValueAndPartial:\n",
        "    def __init__(self, value, partial):\n",
        "        self.value = value\n",
        "        self.partial = partial\n",
        "\n",
        "    def toList(self):\n",
        "        return [self.value, self.partial]\n",
        "\n",
        "# __add__ allows us to interpret + so when we write x+y=Plus(x,y)\n",
        "# __mul__ allows us to interpret * so when we write x*y=Multiply(x,y)\n",
        "class Expression:\n",
        "    def __add__(self, other):\n",
        "\n",
        "        if type(other) == int or type(other)==float:\n",
        "            return Plus(self, Variable(other))\n",
        "        return Plus(self, other)\n",
        "\n",
        "    def __mul__(self, other):\n",
        "        if type(other) == int or type(other)==float:\n",
        "            return Plus(self, Variable(other))\n",
        "        return Multiply(self, other)\n",
        "\n",
        "    def __truediv__(self, other):\n",
        "        if type(other) == int or type(other)==float:\n",
        "            return Plus(self, Variable(other))\n",
        "        return Division(self,other)\n",
        "\n",
        "class Variable(Expression):\n",
        "    def __init__(self, value):\n",
        "        self.value = value\n",
        "\n",
        "    def evaluateAndDerive(self, variable):\n",
        "        partial = 1 if self == variable else 0\n",
        "        return ValueAndPartial(self.value, partial)\n",
        "\n",
        "class Plus(Expression):\n",
        "    def __init__(self, expressionA, expressionB):\n",
        "        self.expressionA = expressionA\n",
        "        self.expressionB = expressionB\n",
        "\n",
        "    def evaluateAndDerive(self, variable):\n",
        "        valueA, partialA = self.expressionA.evaluateAndDerive(variable).toList()\n",
        "        valueB, partialB = self.expressionB.evaluateAndDerive(variable).toList()\n",
        "        # Value: g+h Derivative: g' + h'\n",
        "        return ValueAndPartial(valueA + valueB, partialA + partialB)\n",
        "\n",
        "class Multiply(Expression):\n",
        "    def __init__(self, expressionA, expressionB):\n",
        "        self.expressionA = expressionA\n",
        "        self.expressionB = expressionB\n",
        "\n",
        "    def evaluateAndDerive(self, variable):\n",
        "        valueA, partialA = self.expressionA.evaluateAndDerive(variable).toList()\n",
        "        valueB, partialB = self.expressionB.evaluateAndDerive(variable).toList()\n",
        "        # The second value of the return is the multiplication rule\n",
        "        return ValueAndPartial(valueA * valueB, valueB * partialA + valueA * partialB)\n",
        "\n",
        "# We can add another class to implement division\n",
        "class Division(Expression):\n",
        "    def __init__(self, expressionA, expressionB):\n",
        "        self.expressionA = expressionA\n",
        "        self.expressionB = expressionB\n",
        "\n",
        "    def evaluateAndDerive(self, variable):\n",
        "        valueA, partialA = self.expressionA.evaluateAndDerive(variable).toList()\n",
        "        valueB, partialB = self.expressionB.evaluateAndDerive(variable).toList()\n",
        "        # Value: g/h Derivative: g'*h-h'*g / h^2\n",
        "        return ValueAndPartial(valueA / valueB, (partialA*valueB - partialB*valueA)/(valueB**2))\n",
        "\n",
        "# We can add another class to implement sin\n",
        "class Sin(Expression):\n",
        "    def __init__(self, expression):\n",
        "        self.expression = expression\n",
        "\n",
        "    def evaluateAndDerive(self, variable):\n",
        "        value, partial = self.expression.evaluateAndDerive(variable).toList()\n",
        "\n",
        "        return ValueAndPartial(np.sin(value), np.cos(value)*partial)\n"
      ]
    },
    {
      "cell_type": "markdown",
      "source": [
        "#### Example 1\n",
        "\n",
        "Using the previous classes we can do:\n",
        "\n",
        "$f(x,y)=(x+y)^2 + sin(x+y)$\n",
        "\n",
        "$\\frac{\\partial z}{\\partial x}(3,4) \\approx 14.7539$"
      ],
      "metadata": {
        "id": "hbgOJz9FE7tM"
      }
    },
    {
      "cell_type": "code",
      "source": [
        "x=Variable(3)\n",
        "y=Variable(4)\n",
        "z=(x+y)*(x+y)+Sin(x+y)\n",
        "xPartial = z.evaluateAndDerive(x)\n",
        "yPartial = z.evaluateAndDerive(y)\n",
        "print(\"∂z/∂x =\", xPartial.partial)\n",
        "print(\"∂z/∂y =\", yPartial.partial)\n",
        "print(\"z(3,4)=\", xPartial.value)"
      ],
      "metadata": {
        "id": "s60rSIM27NBY",
        "colab": {
          "base_uri": "https://localhost:8080/"
        },
        "outputId": "78ae4f67-44d8-4f36-d2c0-f54590f85c6b"
      },
      "execution_count": null,
      "outputs": [
        {
          "output_type": "stream",
          "name": "stdout",
          "text": [
            "∂z/∂x = 14.753902254343304\n",
            "∂z/∂y = 14.753902254343304\n",
            "z(3,4)= 49.65698659871879\n"
          ]
        }
      ]
    },
    {
      "cell_type": "markdown",
      "source": [
        "#### Example 2\n",
        "$z=f(x,y)=(\\frac{x}{y}+5)^2+x$\n",
        "\n",
        "We know: $z(6,2)=70$ and $\\frac{\\partial z}{\\partial x}=17$"
      ],
      "metadata": {
        "id": "rcainc_Ecl2s"
      }
    },
    {
      "cell_type": "code",
      "source": [
        "x=Variable(6)\n",
        "y=Variable(2)\n",
        "z=(x/y +5)*(x/y +5)+x\n",
        "xPartial = z.evaluateAndDerive(x)\n",
        "yPartial = z.evaluateAndDerive(y)\n",
        "print(\"∂z/∂x =\", xPartial.partial)\n",
        "print(\"∂z/∂y =\", yPartial.partial)\n",
        "print(\"z(6,2)=\", xPartial.value)"
      ],
      "metadata": {
        "colab": {
          "base_uri": "https://localhost:8080/"
        },
        "id": "-YVp5-B5c6MH",
        "outputId": "e8122544-32ed-48f1-e523-c4e05911deb8"
      },
      "execution_count": null,
      "outputs": [
        {
          "output_type": "stream",
          "name": "stdout",
          "text": [
            "∂z/∂x = 9.0\n",
            "∂z/∂y = -24.0\n",
            "z(6,2)= 70.0\n"
          ]
        }
      ]
    },
    {
      "cell_type": "markdown",
      "source": [
        "## Reserve Automatic Diferentation"
      ],
      "metadata": {
        "id": "9CazhULgJE6l"
      }
    },
    {
      "cell_type": "markdown",
      "source": [
        "The forward method travels the computational graph from right to left, evaluating and getting the partial derivatives, we can also travel from right to left. We show this with an example:"
      ],
      "metadata": {
        "id": "XoGs-o9TpXB8"
      }
    },
    {
      "cell_type": "markdown",
      "source": [
        "$z=f(x,y)=(\\frac{x}{y}+5)^2+x$\n",
        "Remember the table given by the computational graph:\n",
        "\n",
        "\\begin{array}{|c|c|} \\hline\n",
        "w_0=x                                                            \\\\ \\hline\n",
        "w_1=y                                                                        \\\\ \\hline\n",
        "w_2=w_0/w_1+5              \\\\ \\hline\n",
        "w_3=w_2^2                    \\\\ \\hline\n",
        "w_4=w_3+w_0                \\\\ \\hline\n",
        "\\end{array}"
      ],
      "metadata": {
        "id": "D-KSt8eUp2wx"
      }
    },
    {
      "cell_type": "markdown",
      "source": [
        "We want: $\\frac{\\partial z}{\\partial x}(6,2)$, we do the evaluations:\n"
      ],
      "metadata": {
        "id": "Vz87QJcAp_kP"
      }
    },
    {
      "cell_type": "markdown",
      "source": [
        "$z=f(x,y)=(\\frac{x}{y}+5)^2+x$\n",
        "\n",
        "\\begin{array}{|c|c|} \\hline\n",
        "w_0=x              & w_0=6                                             \\\\ \\hline\n",
        "w_1=y                     & w_1 = 2                                                   \\\\ \\hline\n",
        "w_2=w_0/w_1+5           & w_2=8   \\\\ \\hline\n",
        "w_3=w_2^2           &w_3=64         \\\\ \\hline\n",
        "w_4=w_3+w_0          &w_4=70      \\\\ \\hline\n",
        "\\end{array}\n"
      ],
      "metadata": {
        "id": "_k-Fnm-Zv84r"
      }
    },
    {
      "cell_type": "markdown",
      "source": [
        "Now we go backwards using the known values:"
      ],
      "metadata": {
        "id": "gI0o96BKsGHr"
      }
    },
    {
      "cell_type": "markdown",
      "source": [
        "\\begin{array}{|c|c|} \\hline\n",
        "w_0=x              & w_0=6    & \\frac{\\partial z}{\\partial w_0}=\\frac{\\partial z}{\\partial w_2}\\frac{\\partial w_2}{\\partial w_0} + \\frac{\\partial z}{\\partial w_4}\\frac{\\partial w_4}{\\partial w_0} = (2\\cdot w_2)\\cdot \\frac{1}{w_1}+1                                       \\\\ \\hline\n",
        "w_1=y                     & w_1 = 2 & \\frac{\\partial z}{\\partial w_1}=\\frac{\\partial z}{\\partial w_2}\\frac{\\partial w_2}{\\partial w_1}                          =2\\cdot w_2 \\cdot(\\frac{-w_0}{w_1^2})                        \\\\ \\hline\n",
        "w_2=w_0/w_1+5           & w_2=8 & \\frac{\\partial z}{\\partial w_2}=\\frac{\\partial z}{\\partial w_3}\\frac{\\partial w_3}{\\partial w_2}=2\\cdot w_2   \\\\ \\hline\n",
        "w_3=w_2^2           &w_3=64        & \\frac{\\partial z}{\\partial w_3}=\\frac{\\partial z }{\\partial w_4}\\frac{\\partial w_4}{\\partial w_3}=1 \\\\ \\hline\n",
        "w_4=w_3+w_0          &w_4=70 & \\frac{\\partial z}{\\partial w_4}=1 (seed)      \\\\ \\hline\n",
        "\\end{array}"
      ],
      "metadata": {
        "id": "tupkRuTPtYag"
      }
    },
    {
      "cell_type": "markdown",
      "source": [
        "Using the evaluations we finally get:\n",
        "\\begin{array}{|c|c|} \\hline\n",
        "w_0=x              & w_0=6    & \\frac{\\partial z}{\\partial w_0}=\\frac{\\partial z}{\\partial w_2}\\frac{\\partial w_2}{\\partial w_0} + \\frac{\\partial z}{\\partial w_4}\\frac{\\partial w_4}{\\partial w_0} = (2\\cdot w_2)\\cdot \\frac{1}{w_1}+1= \\frac{16}{2}+1=9                                      \\\\ \\hline\n",
        "w_1=y                     & w_1 = 2 & \\frac{\\partial z}{\\partial w_1}=\\frac{\\partial z}{\\partial w_2}\\frac{\\partial w_2}{\\partial w_1}                          =2\\cdot w_2 \\cdot(\\frac{-w_0}{w_1^2})=2\\cdot 8 \\cdot (\\frac{-6}{4})=-24                        \\\\ \\hline\n",
        "w_2=w_0/w_1+5           & w_2=8 & \\frac{\\partial z}{\\partial w_2}=\\frac{\\partial z}{\\partial w_3}\\frac{\\partial w_3}{\\partial w_2}=2\\cdot w_2=16   \\\\ \\hline\n",
        "w_3=w_2^2           &w_3=64        & \\frac{\\partial z}{\\partial w_3}=\\frac{\\partial z }{\\partial w_4}\\frac{\\partial w_4}{\\partial w_3}=1 \\\\ \\hline\n",
        "w_4=w_3+w_0          &w_4=70 & \\frac{\\partial z}{\\partial w_4}=1 (seed)      \\\\ \\hline\n",
        "\\end{array}\n"
      ],
      "metadata": {
        "id": "-6e-bhCMaGlY"
      }
    },
    {
      "cell_type": "markdown",
      "source": [
        "This means:\n",
        "\n",
        "$\\frac{\\partial z}{w_0}=\\frac{\\partial z}{\\partial x}=9$\n",
        "\n",
        "$\\frac{\\partial z}{w_1}=\\frac{\\partial z}{\\partial y}=-24$"
      ],
      "metadata": {
        "id": "fG4cAH_4as_l"
      }
    },
    {
      "cell_type": "markdown",
      "source": [
        "### Python Implementation for Reverse Automatic Differentation\n",
        "Reference: https://en.wikipedia.org/wiki/Automatic_differentiation"
      ],
      "metadata": {
        "id": "t9EcsIJ5dVUv"
      }
    },
    {
      "cell_type": "code",
      "source": [
        "import numpy as np\n",
        "\n",
        "# __add__ allows us to interpret + so when we write x+y=Plus(x,y)\n",
        "# __mul__ allows us to interpret * so when we write x*y=Multiply(x,y)\n",
        "class Expression:\n",
        "    def __add__(self, other):\n",
        "\n",
        "        if type(other) == int or type(other)==float:\n",
        "            return Plus(self, Variable(other))\n",
        "        return Plus(self, other)\n",
        "\n",
        "    def __mul__(self, other):\n",
        "        if type(other) == int or type(other)==float:\n",
        "            return Plus(self, Variable(other))\n",
        "        return Multiply(self, other)\n",
        "\n",
        "    def __truediv__(self, other):\n",
        "        if type(other) == int or type(other)==float:\n",
        "            return Plus(self, Variable(other))\n",
        "        return Division(self,other)\n",
        "\n",
        "class Variable(Expression):\n",
        "    def __init__(self, value):\n",
        "        self.value = value\n",
        "        self.partial = 0\n",
        "\n",
        "    def evaluate(self):\n",
        "        pass\n",
        "\n",
        "    def derive(self, seed):\n",
        "        self.partial += seed\n",
        "\n",
        "class Plus(Expression):\n",
        "    def __init__(self, expressionA, expressionB):\n",
        "        self.expressionA = expressionA\n",
        "        self.expressionB = expressionB\n",
        "        self.value = None\n",
        "\n",
        "    def evaluate(self):\n",
        "        self.expressionA.evaluate()\n",
        "        self.expressionB.evaluate()\n",
        "        self.value = self.expressionA.value + self.expressionB.value\n",
        "\n",
        "    def derive(self, seed):\n",
        "        self.expressionA.derive(seed)\n",
        "        self.expressionB.derive(seed)\n",
        "\n",
        "class Multiply(Expression):\n",
        "    def __init__(self, expressionA, expressionB):\n",
        "        self.expressionA = expressionA\n",
        "        self.expressionB = expressionB\n",
        "        self.value = None\n",
        "\n",
        "    def evaluate(self):\n",
        "        self.expressionA.evaluate()\n",
        "        self.expressionB.evaluate()\n",
        "        self.value = self.expressionA.value * self.expressionB.value\n",
        "\n",
        "    def derive(self, seed):\n",
        "        self.expressionA.derive(self.expressionB.value * seed)\n",
        "        self.expressionB.derive(self.expressionA.value * seed)\n",
        "\n",
        "# We can add another class to implement division\n",
        "class Division(Expression):\n",
        "    def __init__(self, expressionA, expressionB):\n",
        "        self.expressionA = expressionA\n",
        "        self.expressionB = expressionB\n",
        "        self.value=None\n",
        "\n",
        "    def evaluate(self):\n",
        "        self.expressionA.evaluate();\n",
        "        self.expressionB.evaluate();\n",
        "        self.value=self.expressionA.value / self.expressionB.value\n",
        "\n",
        "    def derive(self, seed):\n",
        "        self.expressionA.derive(seed* (1/self.expressionB.value))\n",
        "        self.expressionB.derive(seed*(-self.expressionA.value/(self.expressionB.value**2)))\n",
        "\n",
        "# We can implement the Sin\n",
        "class Sin(Expression):\n",
        "    def __init__(self, expression):\n",
        "        self.expression = expression\n",
        "        self.value=None\n",
        "\n",
        "    def evaluate(self):\n",
        "        self.expression.evaluate();\n",
        "        self.value=np.sin(self.expression.value)\n",
        "\n",
        "    def derive(self, seed):\n",
        "        self.expression.derive(seed*np.cos(self.expression.value))\n"
      ],
      "metadata": {
        "id": "bOtvcCX9dmBv"
      },
      "execution_count": null,
      "outputs": []
    },
    {
      "cell_type": "markdown",
      "source": [
        "#### Example 1\n",
        "\n",
        "Using the previous classes we can do:\n",
        "\n",
        "$f(x,y)=(x+y)^2 + sin(x+y)$\n",
        "\n",
        "$\\frac{\\partial z}{\\partial x}(3,4) \\approx 14.7539$"
      ],
      "metadata": {
        "id": "3WzI7A2KgFL0"
      }
    },
    {
      "cell_type": "code",
      "source": [
        "x=Variable(3)\n",
        "y=Variable(4)\n",
        "z=(x+y)*(x+y)+Sin(x+y)\n",
        "z.evaluate()\n",
        "print(\"z =\", z.value)\n",
        "z.derive(1)\n",
        "print(\"∂z/∂x =\", x.partial)\n",
        "print(\"∂z/∂y =\", y.partial)"
      ],
      "metadata": {
        "colab": {
          "base_uri": "https://localhost:8080/"
        },
        "id": "iApHj0LrgGfs",
        "outputId": "42060f0e-0b9e-4ea5-f460-fff79b1adbd4"
      },
      "execution_count": null,
      "outputs": [
        {
          "output_type": "stream",
          "name": "stdout",
          "text": [
            "z = 49.65698659871879\n",
            "∂z/∂x = 14.753902254343304\n",
            "∂z/∂y = 14.753902254343304\n"
          ]
        }
      ]
    },
    {
      "cell_type": "markdown",
      "source": [
        "#### Example 2\n",
        "$z=f(x,y)=(\\frac{x}{y}+5)^2+x$"
      ],
      "metadata": {
        "id": "T7T8KtAgfrHN"
      }
    },
    {
      "cell_type": "code",
      "source": [
        "x=Variable(6)\n",
        "y=Variable(2)\n",
        "z=(x/y +5)*(x/y +5)+x\n",
        "z.evaluate()\n",
        "print(\"z =\", z.value)\n",
        "z.derive(1)\n",
        "print(\"∂z/∂x =\", x.partial)\n",
        "print(\"∂z/∂y =\", y.partial)"
      ],
      "metadata": {
        "colab": {
          "base_uri": "https://localhost:8080/"
        },
        "id": "7U2xO8tPfr58",
        "outputId": "8cdcbc3f-9a0c-4b17-bd35-12db3879405b"
      },
      "execution_count": null,
      "outputs": [
        {
          "output_type": "stream",
          "name": "stdout",
          "text": [
            "z = 70.0\n",
            "∂z/∂x = 9.0\n",
            "∂z/∂y = -24.0\n"
          ]
        }
      ]
    },
    {
      "cell_type": "markdown",
      "source": [
        "## Conclusion\n",
        "Which of these two types should be used depends on the sweep count. The computational complexity of one sweep is proportional to the complexity of the original code.\n",
        "\n",
        "- Forward accumulation is **more efficient than reverse accumulation for functions $f : R^n → R^m$ with n ≪ m** as only n sweeps are necessary, compared to m sweeps for reverse accumulation.\n",
        "- Reverse accumulation is **more efficient than forward accumulation for functions $f : R^n → R^m$ with n ≫ m** as only m sweeps are necessary, compared to n sweeps for forward accumulation.\n",
        "\n",
        "In a NN we have n≫m so reserve accumulation is the preffered method to get the partials with respect to the input."
      ],
      "metadata": {
        "id": "RiHsQNwVcwxj"
      }
    }
  ]
}